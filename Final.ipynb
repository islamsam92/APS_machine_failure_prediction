{
  "nbformat": 4,
  "nbformat_minor": 0,
  "metadata": {
    "colab": {
      "name": "Final.ipynb",
      "provenance": [],
      "collapsed_sections": []
    },
    "kernelspec": {
      "display_name": "Python 3",
      "name": "python3"
    },
    "language_info": {
      "name": "python"
    }
  },
  "cells": [
    {
      "cell_type": "code",
      "metadata": {
        "id": "7BYAWaow93YC"
      },
      "source": [
        "import pandas as pd\n",
        "import matplotlib.pyplot as plt\n",
        "import numpy as np\n",
        "from sklearn.model_selection import train_test_split\n",
        "from sklearn.model_selection import GridSearchCV\n",
        "from sklearn.datasets import load_digits\n",
        "from sklearn.feature_selection import SelectKBest, chi2\n",
        "from sklearn.preprocessing import MinMaxScaler\n",
        "from sklearn.preprocessing import LabelEncoder\n",
        "##Calculate the total cost\n",
        "from sklearn.metrics import accuracy_score\n",
        "#accuracy_score(test_labels, y_pred)\n",
        "## Confusion matrix\n",
        "from sklearn.metrics import confusion_matrix\n",
        "#confusion_matrix(test_labels, y_pred)"
      ],
      "execution_count": 1,
      "outputs": []
    },
    {
      "cell_type": "code",
      "metadata": {
        "colab": {
          "base_uri": "https://localhost:8080/"
        },
        "id": "r3JqLjxOBvx8",
        "outputId": "b437902f-e4a2-4887-888c-d92cdd69db04"
      },
      "source": [
        "!pip install xgboost\n",
        "from numpy import loadtxt\n",
        "from xgboost import XGBClassifier\n",
        "from sklearn.model_selection import train_test_split\n",
        "from sklearn.metrics import accuracy_score"
      ],
      "execution_count": 2,
      "outputs": [
        {
          "output_type": "stream",
          "name": "stdout",
          "text": [
            "Requirement already satisfied: xgboost in /usr/local/lib/python3.7/dist-packages (0.90)\n",
            "Requirement already satisfied: scipy in /usr/local/lib/python3.7/dist-packages (from xgboost) (1.4.1)\n",
            "Requirement already satisfied: numpy in /usr/local/lib/python3.7/dist-packages (from xgboost) (1.19.5)\n"
          ]
        }
      ]
    },
    {
      "cell_type": "code",
      "metadata": {
        "id": "Xfe-Mn16e7-U"
      },
      "source": [
        "from sklearn.metrics import accuracy_score\n",
        "from sklearn.metrics import precision_score\n",
        "from sklearn.metrics import recall_score\n",
        "from sklearn.metrics import f1_score\n",
        "from sklearn.metrics import cohen_kappa_score\n",
        "from sklearn.metrics import roc_auc_score\n",
        "from sklearn.metrics import confusion_matrix\n",
        "from sklearn.metrics import roc_curve\n",
        "from sklearn.metrics import roc_auc_score\n",
        "from sklearn import metrics\n",
        "\n",
        "from matplotlib import pyplot\n"
      ],
      "execution_count": 3,
      "outputs": []
    },
    {
      "cell_type": "code",
      "metadata": {
        "id": "-ixoyG-g_9hb"
      },
      "source": [
        "### Functions"
      ],
      "execution_count": 4,
      "outputs": []
    },
    {
      "cell_type": "markdown",
      "metadata": {
        "id": "2Brt1EJUKX3u"
      },
      "source": [
        "### Defining the Cost Function (Evaluation Function)"
      ]
    },
    {
      "cell_type": "code",
      "metadata": {
        "id": "_fV07D2TACSU"
      },
      "source": [
        "def calculate_cost(test_labels,y_pred):\n",
        "  confusion_matrix(test_labels, y_pred)\n",
        "  con_mat = confusion_matrix(test_labels, y_pred)\n",
        "  cost_1 = con_mat[0][1]\n",
        "  cost_2 = con_mat[1][0]\n",
        "  total_pred = con_mat[0][0] + con_mat[0][1] + con_mat[1][0] + con_mat[1][1]\n",
        "  accur = (con_mat[0][0] / total_pred ) * 100\n",
        "  total_cost = (cost_1 * 10) + (cost_2*500)\n",
        "  # accuracy: (tp + tn) / (p + n)\n",
        "  accuracy = accuracy_score(test_labels, y_pred)\n",
        "  print('Accuracy: %f' % accuracy)\n",
        "  # precision tp / (tp + fp)\n",
        "  precision = precision_score(test_labels, y_pred)\n",
        "  print('Precision: %f' % precision)\n",
        "  # recall: tp / (tp + fn)\n",
        "  recall = recall_score(test_labels, y_pred)\n",
        "  print('Recall: %f' % recall)\n",
        "  # f1: 2 tp / (2 tp + fp + fn)\n",
        "  f1 = f1_score(test_labels, y_pred)\n",
        "  print('F1 score: %f' % f1)\n",
        "\n",
        "\n",
        "  # ROC AUC\n",
        "  auc = roc_auc_score(test_labels, y_pred)\n",
        "  print('ROC AUC: %f' % auc)\n",
        "  # confusion matrix\n",
        "  matrix = confusion_matrix(test_labels, y_pred)\n",
        "  print(matrix)\n",
        "  return total_cost, cost_1, cost_2, accur\n",
        "\n",
        "\n",
        "## As chi squred does not accept negative we need to make all the values between zero and 1\n",
        "## Also some of algorithm works better when do this step ahead\n",
        "def MinMaxScaler_def(features,feature_list):\n",
        "  scaler = MinMaxScaler()\n",
        "  scaler.fit(features)\n",
        "  train_features = pd.DataFrame(scaler.transform(features), columns=feature_list)\n",
        "  return train_features\n",
        "\n",
        "\n",
        "def selectKBest(k_best,train_features,labels,test_features):\n",
        "  selectKBest = SelectKBest(chi2, k_best)\n",
        "  selectKBest.fit(train_features, labels)\n",
        "  best_train_features = selectKBest.transform(train_features)\n",
        "\n",
        "  idxs_selected = selectKBest.get_support(indices=True)\n",
        "  best_train_features = train_features.iloc[:,idxs_selected]\n",
        "  best_test_features = test_features.iloc[:,idxs_selected]\n",
        "\n",
        "  return best_train_features,best_test_features"
      ],
      "execution_count": 5,
      "outputs": []
    },
    {
      "cell_type": "markdown",
      "metadata": {
        "id": "ENYfM8nmAG5I"
      },
      "source": [
        " Train Data"
      ]
    },
    {
      "cell_type": "code",
      "metadata": {
        "id": "ghQX38kZADQa"
      },
      "source": [
        "train_raw = pd.read_csv('/content/aps_failure_training_set.csv',na_values='na')\n",
        "train_processed = pd.read_csv('/content/aps_failure_training_set_processed_8bit.csv',na_values='na')\n",
        "train_processed[\"class\"] = train_raw[\"class\"]"
      ],
      "execution_count": 6,
      "outputs": []
    },
    {
      "cell_type": "code",
      "metadata": {
        "colab": {
          "base_uri": "https://localhost:8080/"
        },
        "id": "V3Qq4SGNAa3C",
        "outputId": "028a5ff8-c501-4f7b-d9d6-d70b34454df1"
      },
      "source": [
        "train_processed.columns"
      ],
      "execution_count": 7,
      "outputs": [
        {
          "output_type": "execute_result",
          "data": {
            "text/plain": [
              "Index(['class', 'aa_000', 'ab_000', 'ac_000', 'ad_000', 'ae_000', 'af_000',\n",
              "       'ag_000', 'ag_001', 'ag_002',\n",
              "       ...\n",
              "       'ee_002', 'ee_003', 'ee_004', 'ee_005', 'ee_006', 'ee_007', 'ee_008',\n",
              "       'ee_009', 'ef_000', 'eg_000'],\n",
              "      dtype='object', length=171)"
            ]
          },
          "metadata": {},
          "execution_count": 7
        }
      ]
    },
    {
      "cell_type": "code",
      "metadata": {
        "id": "HL8gwwdtARab"
      },
      "source": [
        "test_raw = pd.read_csv('/content/aps_failure_test_set.csv',na_values='na')\n",
        "test_processed = pd.read_csv('/content/aps_failure_test_set_processed_8bit.csv',na_values='na')\n",
        "test_processed[\"class\"] = test_raw[\"class\"]"
      ],
      "execution_count": 8,
      "outputs": []
    },
    {
      "cell_type": "code",
      "metadata": {
        "colab": {
          "base_uri": "https://localhost:8080/"
        },
        "id": "KJfsMs1hAVJV",
        "outputId": "b298b13d-4154-4b7c-e6a1-678d4200106a"
      },
      "source": [
        "test_processed.columns"
      ],
      "execution_count": 9,
      "outputs": [
        {
          "output_type": "execute_result",
          "data": {
            "text/plain": [
              "Index(['class', 'aa_000', 'ab_000', 'ac_000', 'ad_000', 'ae_000', 'af_000',\n",
              "       'ag_000', 'ag_001', 'ag_002',\n",
              "       ...\n",
              "       'ee_002', 'ee_003', 'ee_004', 'ee_005', 'ee_006', 'ee_007', 'ee_008',\n",
              "       'ee_009', 'ef_000', 'eg_000'],\n",
              "      dtype='object', length=171)"
            ]
          },
          "metadata": {},
          "execution_count": 9
        }
      ]
    },
    {
      "cell_type": "markdown",
      "metadata": {
        "id": "PuBlACJKAvde"
      },
      "source": [
        "**All Data**"
      ]
    },
    {
      "cell_type": "code",
      "metadata": {
        "id": "gNjh0ZXoAj4q"
      },
      "source": [
        "all = train_processed.append(test_processed)"
      ],
      "execution_count": 10,
      "outputs": []
    },
    {
      "cell_type": "code",
      "metadata": {
        "colab": {
          "base_uri": "https://localhost:8080/"
        },
        "id": "Q0lH5vwXArPy",
        "outputId": "48994b76-a572-49dc-fa25-e1578d28da2f"
      },
      "source": [
        "### 170 features\n",
        "### 76000 instances\n",
        "all.shape"
      ],
      "execution_count": 11,
      "outputs": [
        {
          "output_type": "execute_result",
          "data": {
            "text/plain": [
              "(76000, 171)"
            ]
          },
          "metadata": {},
          "execution_count": 11
        }
      ]
    },
    {
      "cell_type": "code",
      "metadata": {
        "id": "8Sjh89tgsavu"
      },
      "source": [
        "labelencoder = LabelEncoder()\n",
        "\n",
        "# Assigning numerical values and storing in another column\n",
        "all['class_labeled'] = labelencoder.fit_transform(all['class'])\n",
        "The_class = all[['class_labeled']]\n",
        "all = all.drop('class',axis=1)\n",
        "#aps_failure_processed.head()"
      ],
      "execution_count": 12,
      "outputs": []
    },
    {
      "cell_type": "code",
      "metadata": {
        "colab": {
          "base_uri": "https://localhost:8080/"
        },
        "id": "HrXeOX1wMrRi",
        "outputId": "3fe73910-b638-45da-c7bf-adaef0129495"
      },
      "source": [
        "## all data\n",
        "ozero_counter = 0\n",
        "oone_counter = 0\n",
        "for i in all['class_labeled']:\n",
        "    if i == 0 :\n",
        "        ozero_counter+=1\n",
        "    if i == 1:\n",
        "        oone_counter+=1\n",
        "print(\"Original Zeros count is\",ozero_counter)\n",
        "print(\"Original Ones count is\",oone_counter)"
      ],
      "execution_count": 13,
      "outputs": [
        {
          "output_type": "stream",
          "name": "stdout",
          "text": [
            "Original Zeros count is 74625\n",
            "Original Ones count is 1375\n"
          ]
        }
      ]
    },
    {
      "cell_type": "code",
      "metadata": {
        "colab": {
          "base_uri": "https://localhost:8080/",
          "height": 279
        },
        "id": "x0UIUoBnM6gB",
        "outputId": "c3a7a492-7614-446f-942e-9ef1f1f07ab1"
      },
      "source": [
        "all_df = pd.DataFrame({'neg':[74625],'pos':[1375]})\n",
        "all_df.plot(kind='bar')\n",
        "all_df.index = ['label']\n",
        "plt.ylabel(' count')"
      ],
      "execution_count": 14,
      "outputs": [
        {
          "output_type": "execute_result",
          "data": {
            "text/plain": [
              "Text(0, 0.5, ' count')"
            ]
          },
          "metadata": {},
          "execution_count": 14
        },
        {
          "output_type": "display_data",
          "data": {
            "image/png": "[encoded data removed]",
            "text/plain": [
              "<Figure size 432x288 with 1 Axes>"
            ]
          },
          "metadata": {
            "needs_background": "light"
          }
        }
      ]
    },
    {
      "cell_type": "code",
      "metadata": {
        "id": "8NmH2D4zm3KU"
      },
      "source": [
        "#from google.colab import drive\n",
        "#drive.mount('/content/drive')"
      ],
      "execution_count": 15,
      "outputs": []
    },
    {
      "cell_type": "markdown",
      "metadata": {
        "id": "f9scCE9UCMn4"
      },
      "source": [
        "**Cleaning and preparation**"
      ]
    },
    {
      "cell_type": "code",
      "metadata": {
        "colab": {
          "base_uri": "https://localhost:8080/"
        },
        "id": "b1zYMLZnD0hk",
        "outputId": "0f94bf51-89b5-44e6-abc0-17d51121edff"
      },
      "source": [
        "## 80% , 10% , 10%\n",
        "from sklearn.model_selection import train_test_split\n",
        "\n",
        "# Let's say we want to split the data in 80:10:10 for train:valid:test dataset\n",
        "train_size=0.8\n",
        "\n",
        "X = all.drop(columns = ['class_labeled']).copy()\n",
        "y = all['class_labeled']\n",
        "\n",
        "# In the first step we will split the data in training and remaining dataset\n",
        "X_train, X_rem, y_train, y_rem = train_test_split(X,y, train_size=0.8)\n",
        "\n",
        "# Now since we want the valid and test size to be equal (10% each of overall data). \n",
        "# we have to define valid_size=0.5 (that is 50% of remaining data)\n",
        "test_size = 0.5\n",
        "X_valid, X_test, y_valid, y_test = train_test_split(X_rem,y_rem, test_size=0.5)\n",
        "\n",
        "print(\"Train shape: \")\n",
        "print(X_train.shape), print(y_train.shape)\n",
        "print(\"Validation shape: \")\n",
        "print(X_valid.shape), print(y_valid.shape)\n",
        "print(\"Test shape: \")\n",
        "print(X_test.shape), print(y_test.shape)"
      ],
      "execution_count": 16,
      "outputs": [
        {
          "output_type": "stream",
          "name": "stdout",
          "text": [
            "Train shape: \n",
            "(60800, 170)\n",
            "(60800,)\n",
            "Validation shape: \n",
            "(7600, 170)\n",
            "(7600,)\n",
            "Test shape: \n",
            "(7600, 170)\n",
            "(7600,)\n"
          ]
        },
        {
          "output_type": "execute_result",
          "data": {
            "text/plain": [
              "(None, None)"
            ]
          },
          "metadata": {},
          "execution_count": 16
        }
      ]
    },
    {
      "cell_type": "markdown",
      "metadata": {
        "id": "-kCWOzBLFvq2"
      },
      "source": [
        "## **Train**"
      ]
    },
    {
      "cell_type": "code",
      "metadata": {
        "id": "agQQvkVUCXEC"
      },
      "source": [
        "# Labels are the values we want to predict\n",
        "train_labels = np.array(y_train)\n",
        "# Remove the labels from the features\n",
        "# axis 1 refers to the columns\n",
        "train_features = X_train\n",
        "# Saving feature names for later use\n",
        "train_feature_list = list(train_features.columns)\n",
        "# Convert to numpy array\n",
        "train_features = np.array(train_features)"
      ],
      "execution_count": 17,
      "outputs": []
    },
    {
      "cell_type": "code",
      "metadata": {
        "colab": {
          "base_uri": "https://localhost:8080/"
        },
        "id": "BCYR-XNnCrJs",
        "outputId": "bc3577f2-a032-4792-8118-504d9275064b"
      },
      "source": [
        "train_features.shape"
      ],
      "execution_count": 18,
      "outputs": [
        {
          "output_type": "execute_result",
          "data": {
            "text/plain": [
              "(60800, 170)"
            ]
          },
          "metadata": {},
          "execution_count": 18
        }
      ]
    },
    {
      "cell_type": "code",
      "metadata": {
        "colab": {
          "base_uri": "https://localhost:8080/"
        },
        "id": "qVXydZrBwwsp",
        "outputId": "0492e5fa-48d7-4c65-c762-19cb1d14518c"
      },
      "source": [
        "y_train.shape"
      ],
      "execution_count": 19,
      "outputs": [
        {
          "output_type": "execute_result",
          "data": {
            "text/plain": [
              "(60800,)"
            ]
          },
          "metadata": {},
          "execution_count": 19
        }
      ]
    },
    {
      "cell_type": "code",
      "metadata": {
        "colab": {
          "base_uri": "https://localhost:8080/"
        },
        "id": "x87s4PW3yY5F",
        "outputId": "4d272fa0-a00f-4988-a180-6984147e4074"
      },
      "source": [
        "train_labels.shape"
      ],
      "execution_count": 20,
      "outputs": [
        {
          "output_type": "execute_result",
          "data": {
            "text/plain": [
              "(60800,)"
            ]
          },
          "metadata": {},
          "execution_count": 20
        }
      ]
    },
    {
      "cell_type": "markdown",
      "metadata": {
        "id": "91382-FRF1QM"
      },
      "source": [
        "# **Validation**"
      ]
    },
    {
      "cell_type": "code",
      "metadata": {
        "id": "ng_ep1tpFpsr"
      },
      "source": [
        "# Labels are the values we want to predict\n",
        "validation_labels = np.array(y_valid)\n",
        "# Remove the labels from the features\n",
        "# axis 1 refers to the columns\n",
        "validation_features = X_valid\n",
        "# Saving feature names for later use\n",
        "validation_feature_list = list(validation_features.columns)\n",
        "# Convert to numpy array\n",
        "validation_features = np.array(validation_features)"
      ],
      "execution_count": 21,
      "outputs": []
    },
    {
      "cell_type": "code",
      "metadata": {
        "colab": {
          "base_uri": "https://localhost:8080/"
        },
        "id": "a5CTBgrDIWm1",
        "outputId": "811abd80-e35e-4ca0-ee8e-f6b927570c01"
      },
      "source": [
        "validation_features.shape"
      ],
      "execution_count": 22,
      "outputs": [
        {
          "output_type": "execute_result",
          "data": {
            "text/plain": [
              "(7600, 170)"
            ]
          },
          "metadata": {},
          "execution_count": 22
        }
      ]
    },
    {
      "cell_type": "code",
      "metadata": {
        "colab": {
          "base_uri": "https://localhost:8080/"
        },
        "id": "HwoU7rpBxAxW",
        "outputId": "64faa3d9-faeb-461c-e368-d30730add1bf"
      },
      "source": [
        "validation_labels.shape"
      ],
      "execution_count": 23,
      "outputs": [
        {
          "output_type": "execute_result",
          "data": {
            "text/plain": [
              "(7600,)"
            ]
          },
          "metadata": {},
          "execution_count": 23
        }
      ]
    },
    {
      "cell_type": "markdown",
      "metadata": {
        "id": "hmzd0LigF3a8"
      },
      "source": [
        "# **Test**"
      ]
    },
    {
      "cell_type": "code",
      "metadata": {
        "id": "JSbnHWNpF2zl"
      },
      "source": [
        "# Labels are the values we want to predict\n",
        "test_labels = np.array(y_test)\n",
        "# Remove the labels from the features\n",
        "# axis 1 refers to the columns\n",
        "test_features = X_test\n",
        "# Saving feature names for later use\n",
        "test_feature_list = list(test_features.columns)\n",
        "# Convert to numpy array\n",
        "test_features = np.array(test_features)"
      ],
      "execution_count": 24,
      "outputs": []
    },
    {
      "cell_type": "code",
      "metadata": {
        "colab": {
          "base_uri": "https://localhost:8080/"
        },
        "id": "BPSZd8RrISfB",
        "outputId": "9aeb6bdc-5179-494b-a568-a9390f1649e1"
      },
      "source": [
        "test_features.shape"
      ],
      "execution_count": 25,
      "outputs": [
        {
          "output_type": "execute_result",
          "data": {
            "text/plain": [
              "(7600, 170)"
            ]
          },
          "metadata": {},
          "execution_count": 25
        }
      ]
    },
    {
      "cell_type": "code",
      "metadata": {
        "colab": {
          "base_uri": "https://localhost:8080/"
        },
        "id": "s_X4Zl-JxHKm",
        "outputId": "7155bb0d-586c-4378-f380-ba5503ee4f0a"
      },
      "source": [
        "test_labels.shape"
      ],
      "execution_count": 26,
      "outputs": [
        {
          "output_type": "execute_result",
          "data": {
            "text/plain": [
              "(7600,)"
            ]
          },
          "metadata": {},
          "execution_count": 26
        }
      ]
    },
    {
      "cell_type": "code",
      "metadata": {
        "colab": {
          "base_uri": "https://localhost:8080/"
        },
        "id": "0IzxPnaZIVmJ",
        "outputId": "cbc5d51a-6b19-4c53-8667-fe941a55b465"
      },
      "source": [
        "## Check with shapes\n",
        "print('Training Features Shape:', train_features.shape)\n",
        "print('Training Labels Shape:', train_labels.shape)\n",
        "print('Validation Features Shape:', validation_features.shape)\n",
        "print('Validation Labels Shape:', validation_labels.shape)\n",
        "print('Testing Features Shape:', test_features.shape)\n",
        "print('Testing Labels Shape:', test_labels.shape)\n",
        "\n"
      ],
      "execution_count": 27,
      "outputs": [
        {
          "output_type": "stream",
          "name": "stdout",
          "text": [
            "Training Features Shape: (60800, 170)\n",
            "Training Labels Shape: (60800,)\n",
            "Validation Features Shape: (7600, 170)\n",
            "Validation Labels Shape: (7600,)\n",
            "Testing Features Shape: (7600, 170)\n",
            "Testing Labels Shape: (7600,)\n"
          ]
        }
      ]
    },
    {
      "cell_type": "code",
      "metadata": {
        "colab": {
          "base_uri": "https://localhost:8080/"
        },
        "id": "JP1hRRy4JccI",
        "outputId": "1b095a04-c2d0-423c-d780-ac6b7cae682f"
      },
      "source": [
        "train_labels"
      ],
      "execution_count": 28,
      "outputs": [
        {
          "output_type": "execute_result",
          "data": {
            "text/plain": [
              "array([0, 0, 0, ..., 0, 0, 0])"
            ]
          },
          "metadata": {},
          "execution_count": 28
        }
      ]
    },
    {
      "cell_type": "markdown",
      "metadata": {
        "id": "3HrVDBa2Iv7S"
      },
      "source": [
        "### Imbalanced Training handling using SMOTE"
      ]
    },
    {
      "cell_type": "code",
      "metadata": {
        "colab": {
          "base_uri": "https://localhost:8080/"
        },
        "id": "0huFK2ZCIuKt",
        "outputId": "d4518a84-4047-42aa-b0b9-0caf9aa260a1"
      },
      "source": [
        "import imblearn \n",
        "from collections import Counter\n",
        "from imblearn.pipeline import Pipeline\n",
        "from imblearn.over_sampling import SMOTE\n",
        "\n",
        "#Print 0s and 1s original count \n",
        "ozero_counter = 0\n",
        "oone_counter = 0\n",
        "for i in train_labels:\n",
        "    if i == 0 :\n",
        "        ozero_counter+=1\n",
        "    if i == 1:\n",
        "        oone_counter+=1\n",
        "print(\"Original Zeros count is\",ozero_counter)\n",
        "print(\"Original Ones count is\",oone_counter)\n",
        "\n",
        "# transform the dataset\n",
        "oversample = SMOTE()\n",
        "train_features, train_labels = oversample.fit_resample(train_features, train_labels)\n",
        "\n",
        "#Print 0s and 1s after SMOTE\n",
        "zero_counter = 0\n",
        "one_counter = 0\n",
        "for i in train_labels:\n",
        "    if i == 0 :\n",
        "        zero_counter+=1\n",
        "    if i ==1:\n",
        "        one_counter+=1\n",
        "print(\"After SMOTE Zeros count is\",zero_counter)\n",
        "print(\"After SMOTE Ones count is\",one_counter)"
      ],
      "execution_count": 29,
      "outputs": [
        {
          "output_type": "stream",
          "name": "stdout",
          "text": [
            "Original Zeros count is 59685\n",
            "Original Ones count is 1115\n"
          ]
        },
        {
          "output_type": "stream",
          "name": "stderr",
          "text": [
            "/usr/local/lib/python3.7/dist-packages/sklearn/externals/six.py:31: FutureWarning: The module is deprecated in version 0.21 and will be removed in version 0.23 since we've dropped support for Python 2.7. Please rely on the official version of six (https://pypi.org/project/six/).\n",
            "  \"(https://pypi.org/project/six/).\", FutureWarning)\n",
            "/usr/local/lib/python3.7/dist-packages/sklearn/utils/deprecation.py:144: FutureWarning: The sklearn.neighbors.base module is  deprecated in version 0.22 and will be removed in version 0.24. The corresponding classes / functions should instead be imported from sklearn.neighbors. Anything that cannot be imported from sklearn.neighbors is now part of the private API.\n",
            "  warnings.warn(message, FutureWarning)\n",
            "/usr/local/lib/python3.7/dist-packages/sklearn/utils/deprecation.py:87: FutureWarning: Function safe_indexing is deprecated; safe_indexing is deprecated in version 0.22 and will be removed in version 0.24.\n",
            "  warnings.warn(msg, category=FutureWarning)\n"
          ]
        },
        {
          "output_type": "stream",
          "name": "stdout",
          "text": [
            "After SMOTE Zeros count is 59685\n",
            "After SMOTE Ones count is 59685\n"
          ]
        }
      ]
    },
    {
      "cell_type": "code",
      "metadata": {
        "colab": {
          "base_uri": "https://localhost:8080/"
        },
        "id": "ZhY-z8bVys0O",
        "outputId": "c49ba3e9-f1c7-4aae-8a4f-520785d3e85e"
      },
      "source": [
        "train_features.shape"
      ],
      "execution_count": 30,
      "outputs": [
        {
          "output_type": "execute_result",
          "data": {
            "text/plain": [
              "(119370, 170)"
            ]
          },
          "metadata": {},
          "execution_count": 30
        }
      ]
    },
    {
      "cell_type": "code",
      "metadata": {
        "colab": {
          "base_uri": "https://localhost:8080/"
        },
        "id": "ifYz_t20yw1k",
        "outputId": "c691066a-2424-4186-9883-a79022866f65"
      },
      "source": [
        "train_labels.shape"
      ],
      "execution_count": 31,
      "outputs": [
        {
          "output_type": "execute_result",
          "data": {
            "text/plain": [
              "(119370,)"
            ]
          },
          "metadata": {},
          "execution_count": 31
        }
      ]
    },
    {
      "cell_type": "code",
      "metadata": {
        "colab": {
          "base_uri": "https://localhost:8080/",
          "height": 279
        },
        "id": "ZuMgYOaFIzYh",
        "outputId": "bd99e02d-ef3b-4434-8ea8-815b3d81cc12"
      },
      "source": [
        "##befor\n",
        "before_df = pd.DataFrame({'0':[60800],'1':[1075]})\n",
        "before_df.plot(kind='bar')"
      ],
      "execution_count": 32,
      "outputs": [
        {
          "output_type": "execute_result",
          "data": {
            "text/plain": [
              "<matplotlib.axes._subplots.AxesSubplot at 0x7fda7e58f150>"
            ]
          },
          "metadata": {},
          "execution_count": 32
        },
        {
          "output_type": "display_data",
          "data": {
            "image/png": "[encoded data removed]",
            "text/plain": [
              "<Figure size 432x288 with 1 Axes>"
            ]
          },
          "metadata": {
            "needs_background": "light"
          }
        }
      ]
    },
    {
      "cell_type": "code",
      "metadata": {
        "colab": {
          "base_uri": "https://localhost:8080/",
          "height": 279
        },
        "id": "W_gSg52GIzNT",
        "outputId": "0310bc2c-7dbc-41c9-e970-3c57f050ffda"
      },
      "source": [
        "##after\n",
        "after_df = pd.DataFrame({'Neg':[59725],'Pos':[59725]})\n",
        "after_df.plot(kind='bar')\n"
      ],
      "execution_count": 33,
      "outputs": [
        {
          "output_type": "execute_result",
          "data": {
            "text/plain": [
              "<matplotlib.axes._subplots.AxesSubplot at 0x7fda7e4ed690>"
            ]
          },
          "metadata": {},
          "execution_count": 33
        },
        {
          "output_type": "display_data",
          "data": {
            "image/png": "[encoded data removed]",
            "text/plain": [
              "<Figure size 432x288 with 1 Axes>"
            ]
          },
          "metadata": {
            "needs_background": "light"
          }
        }
      ]
    },
    {
      "cell_type": "markdown",
      "metadata": {
        "id": "XFqvXD_XpkP7"
      },
      "source": [
        "**CHI SQUARE**"
      ]
    },
    {
      "cell_type": "code",
      "metadata": {
        "id": "QnNjAf7vOnuB"
      },
      "source": [
        "## As chi squred does not accept negative we need to make all the values between zero and 1\n",
        "## Also some of algorithm works better when do this step ahead\n",
        "def MinMaxScaler_def(features,feature_list):\n",
        "  scaler = MinMaxScaler()\n",
        "  scaler.fit(features)\n",
        "  train_features = pd.DataFrame(scaler.transform(features), columns=feature_list)\n",
        "  return train_features"
      ],
      "execution_count": 34,
      "outputs": []
    },
    {
      "cell_type": "code",
      "metadata": {
        "id": "DktGufo_qKTP"
      },
      "source": [
        "def selectKBest(k_best,train_features,validation_features,test_features):\n",
        "  selectKBest = SelectKBest(chi2, k_best)\n",
        "  selectKBest.fit(train_features, train_labels)\n",
        "  best_train_features = selectKBest.transform(train_features)\n",
        "\n",
        "  idxs_selected = selectKBest.get_support(indices=True)\n",
        "  best_train_features = train_features.iloc[:,idxs_selected]\n",
        "  best_validation_features = validation_features.iloc[:,idxs_selected]\n",
        "  best_test_features = test_features.iloc[:,idxs_selected]\n",
        "\n",
        "  return best_train_features,best_validation_features,best_test_features"
      ],
      "execution_count": 35,
      "outputs": []
    },
    {
      "cell_type": "code",
      "metadata": {
        "id": "6n5jGr6sqclj"
      },
      "source": [
        "##Main\n",
        "train_features_scaled = MinMaxScaler_def( train_features ,train_feature_list)\n",
        "validation_features_scaled = MinMaxScaler_def(validation_features, validation_feature_list)\n",
        "test_features_scaled = MinMaxScaler_def(test_features,test_feature_list)"
      ],
      "execution_count": 36,
      "outputs": []
    },
    {
      "cell_type": "code",
      "metadata": {
        "id": "VrGx_3XQqOx2"
      },
      "source": [
        "best_train_features,best_validation_features,best_test_features = selectKBest(40,train_features_scaled,validation_features_scaled,test_features_scaled)"
      ],
      "execution_count": 37,
      "outputs": []
    },
    {
      "cell_type": "code",
      "metadata": {
        "colab": {
          "base_uri": "https://localhost:8080/"
        },
        "id": "Cv-ZVS8E8SpL",
        "outputId": "1c65359c-914a-4c9e-8325-f38aab1b0832"
      },
      "source": [
        "best_train_features.shape"
      ],
      "execution_count": 38,
      "outputs": [
        {
          "output_type": "execute_result",
          "data": {
            "text/plain": [
              "(119370, 40)"
            ]
          },
          "metadata": {},
          "execution_count": 38
        }
      ]
    },
    {
      "cell_type": "code",
      "metadata": {
        "colab": {
          "base_uri": "https://localhost:8080/"
        },
        "id": "G6nQtbVe8vtX",
        "outputId": "2f5df749-e12d-4a9d-8aea-4138efaf3b0d"
      },
      "source": [
        "best_validation_features.shape"
      ],
      "execution_count": 39,
      "outputs": [
        {
          "output_type": "execute_result",
          "data": {
            "text/plain": [
              "(7600, 40)"
            ]
          },
          "metadata": {},
          "execution_count": 39
        }
      ]
    },
    {
      "cell_type": "code",
      "metadata": {
        "colab": {
          "base_uri": "https://localhost:8080/"
        },
        "id": "Ed_Xh2fK8ykP",
        "outputId": "2db78e21-381d-412a-9e85-93551485b6ba"
      },
      "source": [
        "best_test_features.shape"
      ],
      "execution_count": 40,
      "outputs": [
        {
          "output_type": "execute_result",
          "data": {
            "text/plain": [
              "(7600, 40)"
            ]
          },
          "metadata": {},
          "execution_count": 40
        }
      ]
    },
    {
      "cell_type": "markdown",
      "metadata": {
        "id": "o4r-9-Y99_V-"
      },
      "source": [
        "### **PCA**"
      ]
    },
    {
      "cell_type": "code",
      "metadata": {
        "colab": {
          "base_uri": "https://localhost:8080/",
          "height": 404
        },
        "id": "5hq6SUA08z7l",
        "outputId": "429ecfc3-4621-493e-89ba-7d697435d30d"
      },
      "source": [
        "from sklearn.decomposition import PCA\n",
        "pca = PCA().fit(train_features)\n",
        "#remove ; to see the output\n",
        "pca.explained_variance_ratio_;\n",
        "\n",
        "plt.rcParams[\"figure.figsize\"] = (12,6)\n",
        "fig, ax = plt.subplots()\n",
        "xi = np.arange(1, 171, step=1)\n",
        "y = np.cumsum(pca.explained_variance_ratio_)\n",
        "\n",
        "plt.ylim(0.0,1.1)\n",
        "plt.plot(xi, y, marker='o', linestyle='--', color='b')\n",
        "plt.xlabel('Number of Components')\n",
        "plt.ylabel('Cumulative variance (%)')\n",
        "plt.title('The number of components needed to explain variance')\n",
        "plt.axhline(y=0.70, color='r', linestyle='-')\n",
        "plt.text(0.5, 0.73, '70% cut-off threshold', color = 'red', fontsize=16)\n",
        "plt.axhline(y=0.90, color='r', linestyle='-')\n",
        "plt.text(0.5, 0.85, '90% cut-off threshold', color = 'red', fontsize=16)\n",
        "\n",
        "ax.grid(axis='x')\n",
        "plt.show()"
      ],
      "execution_count": 41,
      "outputs": [
        {
          "output_type": "display_data",
          "data": {
            "image/png": "[encoded data removed]",
            "text/plain": [
              "<Figure size 864x432 with 1 Axes>"
            ]
          },
          "metadata": {
            "needs_background": "light"
          }
        }
      ]
    },
    {
      "cell_type": "code",
      "metadata": {
        "id": "ppTc5LBm-fH9"
      },
      "source": [
        "n_comp=[0.70,0.75,0.80,0.85,0.90]"
      ],
      "execution_count": 42,
      "outputs": []
    },
    {
      "cell_type": "markdown",
      "metadata": {
        "id": "y7_jxSmr_E4f"
      },
      "source": [
        "**TEST AND TRAIN VALUES FOR VARIANCE**"
      ]
    },
    {
      "cell_type": "code",
      "metadata": {
        "colab": {
          "base_uri": "https://localhost:8080/"
        },
        "id": "o_Nq1f_3-698",
        "outputId": "50b95140-edd6-4f82-cc6a-8f9daa61fa3a"
      },
      "source": [
        "#70%\n",
        "pca = PCA(n_components = n_comp[0],random_state = 42)\n",
        "pca.fit(train_features)\n",
        "x_train_new_0 = pca.transform(train_features)\n",
        "X_valid_0 = pca.transform(X_valid)\n",
        "x_test_0 = pca.transform(X_test)\n",
        "print(\"Number of features after PCA = \", x_test_0.shape[1])"
      ],
      "execution_count": 43,
      "outputs": [
        {
          "output_type": "stream",
          "name": "stdout",
          "text": [
            "Number of features after PCA =  3\n"
          ]
        }
      ]
    },
    {
      "cell_type": "code",
      "metadata": {
        "colab": {
          "base_uri": "https://localhost:8080/"
        },
        "id": "rhZkpnqs_Ms4",
        "outputId": "6808003e-4aa3-4eca-cbfa-6d60ed5b36d4"
      },
      "source": [
        "#75\n",
        "pca = PCA(n_components = n_comp[1],random_state = 42)\n",
        "pca.fit(X_train)\n",
        "x_train_new_1 = pca.transform(train_features)\n",
        "X_valid_1 = pca.transform(X_valid)\n",
        "x_test_1 = pca.transform(X_test)\n",
        "print(\"Number of features after PCA = \", x_test_1.shape[1])"
      ],
      "execution_count": 44,
      "outputs": [
        {
          "output_type": "stream",
          "name": "stdout",
          "text": [
            "Number of features after PCA =  4\n"
          ]
        }
      ]
    },
    {
      "cell_type": "code",
      "metadata": {
        "colab": {
          "base_uri": "https://localhost:8080/"
        },
        "id": "dLNE-BKGBIYT",
        "outputId": "a9e8235c-0138-4f8e-cecc-718c909630b0"
      },
      "source": [
        "#80\n",
        "pca = PCA(n_components = n_comp[2],random_state = 42)\n",
        "pca.fit(X_train)\n",
        "x_train_new_2 = pca.transform(train_features)\n",
        "X_valid_2 = pca.transform(X_valid)\n",
        "x_test_2 = pca.transform(X_test)\n",
        "print(\"Number of features after PCA = \", x_test_2.shape[1])"
      ],
      "execution_count": 45,
      "outputs": [
        {
          "output_type": "stream",
          "name": "stdout",
          "text": [
            "Number of features after PCA =  6\n"
          ]
        }
      ]
    },
    {
      "cell_type": "code",
      "metadata": {
        "colab": {
          "base_uri": "https://localhost:8080/"
        },
        "id": "igZljfeBBOht",
        "outputId": "87924f84-7043-4e76-8a34-e240e25c1b5a"
      },
      "source": [
        "#85\n",
        "pca = PCA(n_components = n_comp[3],random_state = 42)\n",
        "pca.fit(X_train)\n",
        "x_train_new_3 = pca.transform(train_features)\n",
        "X_valid_3 = pca.transform(X_valid)\n",
        "x_test_3 = pca.transform(X_test)\n",
        "print(\"Number of features after PCA = \", x_test_3.shape[1])"
      ],
      "execution_count": 46,
      "outputs": [
        {
          "output_type": "stream",
          "name": "stdout",
          "text": [
            "Number of features after PCA =  10\n"
          ]
        }
      ]
    },
    {
      "cell_type": "code",
      "metadata": {
        "colab": {
          "base_uri": "https://localhost:8080/"
        },
        "id": "kp01PXe1BQu9",
        "outputId": "7890ac56-8431-4440-b4bc-b3eace96c4a6"
      },
      "source": [
        "#90\n",
        "pca = PCA(n_components = n_comp[4],random_state = 42)\n",
        "pca.fit(X_train)\n",
        "x_train_new_4 = pca.transform(train_features)\n",
        "X_valid_4 = pca.transform(X_valid)\n",
        "x_test_4 = pca.transform(X_test)\n",
        "print(\"Number of features after PCA = \", x_test_4.shape[1])"
      ],
      "execution_count": 47,
      "outputs": [
        {
          "output_type": "stream",
          "name": "stdout",
          "text": [
            "Number of features after PCA =  18\n"
          ]
        }
      ]
    },
    {
      "cell_type": "markdown",
      "metadata": {
        "id": "EWbOU4HgQYvX"
      },
      "source": [
        "### Plain RF"
      ]
    },
    {
      "cell_type": "code",
      "metadata": {
        "colab": {
          "base_uri": "https://localhost:8080/"
        },
        "id": "uHGC4ETZPojn",
        "outputId": "625f24d9-88d2-4780-f54d-1ce465813757"
      },
      "source": [
        "#Import Random Forest Model\n",
        "from sklearn.ensemble import RandomForestClassifier\n",
        "\n",
        "#Create a Gaussian Classifier\n",
        "clf = RandomForestClassifier(n_estimators=100 )\n",
        "\n",
        "#Train the model using the training sets y_pred=clf.predict(X_test)\n",
        "clf.fit(train_features,train_labels)\n",
        "\n",
        "y_pred=clf.predict(validation_features)\n",
        "rf_cost = calculate_cost(test_labels,y_pred)\n",
        "print(rf_cost)"
      ],
      "execution_count": 48,
      "outputs": [
        {
          "output_type": "stream",
          "name": "stdout",
          "text": [
            "Accuracy: 0.964474\n",
            "Precision: 0.007692\n",
            "Recall: 0.007042\n",
            "F1 score: 0.007353\n",
            "ROC AUC: 0.494873\n",
            "[[7329  129]\n",
            " [ 141    1]]\n",
            "(71790, 129, 141, 96.4342105263158)\n"
          ]
        }
      ]
    },
    {
      "cell_type": "code",
      "metadata": {
        "colab": {
          "base_uri": "https://localhost:8080/"
        },
        "id": "BpUGMKYJ92L9",
        "outputId": "4426bb5b-1623-4bee-92f8-43fbbbb290e7"
      },
      "source": [
        "#testing 70\n",
        "y_pred=clf.predict(test_features)\n",
        "rf_pca_cost_0 = calculate_cost(test_labels,y_pred)\n",
        "print(rf_pca_cost_0)"
      ],
      "execution_count": 49,
      "outputs": [
        {
          "output_type": "stream",
          "name": "stdout",
          "text": [
            "Accuracy: 0.991447\n",
            "Precision: 0.789474\n",
            "Recall: 0.739437\n",
            "F1 score: 0.763636\n",
            "ROC AUC: 0.867841\n",
            "[[7430   28]\n",
            " [  37  105]]\n",
            "(18780, 28, 37, 97.76315789473684)\n"
          ]
        }
      ]
    },
    {
      "cell_type": "markdown",
      "metadata": {
        "id": "b0iHfApvLn21"
      },
      "source": [
        "## **1. Training with PCA**"
      ]
    },
    {
      "cell_type": "markdown",
      "metadata": {
        "id": "0Gcddbj_Lykq"
      },
      "source": [
        "### RF + PCA"
      ]
    },
    {
      "cell_type": "code",
      "metadata": {
        "colab": {
          "base_uri": "https://localhost:8080/"
        },
        "id": "JMtLOqQ5vww3",
        "outputId": "697ecec3-68cf-4003-ca67-cb3f85e56fc2"
      },
      "source": [
        "train_labels.shape"
      ],
      "execution_count": 50,
      "outputs": [
        {
          "output_type": "execute_result",
          "data": {
            "text/plain": [
              "(119370,)"
            ]
          },
          "metadata": {},
          "execution_count": 50
        }
      ]
    },
    {
      "cell_type": "code",
      "metadata": {
        "colab": {
          "base_uri": "https://localhost:8080/"
        },
        "id": "9exdGxgtxx_B",
        "outputId": "a10b6016-a814-42c8-a971-997194b6f970"
      },
      "source": [
        "x_train_new_0.shape"
      ],
      "execution_count": 51,
      "outputs": [
        {
          "output_type": "execute_result",
          "data": {
            "text/plain": [
              "(119370, 3)"
            ]
          },
          "metadata": {},
          "execution_count": 51
        }
      ]
    },
    {
      "cell_type": "code",
      "metadata": {
        "colab": {
          "base_uri": "https://localhost:8080/"
        },
        "id": "Tk1HvTmJybYn",
        "outputId": "6472ebfa-6f08-406a-c464-29da89bdf3ad"
      },
      "source": [
        "#Import Random Forest Model\n",
        "from sklearn.ensemble import RandomForestClassifier\n",
        "\n",
        "#Create a Gaussian Classifier\n",
        "clf = RandomForestClassifier(n_estimators=100 )\n",
        "\n",
        "#Train the model using the training sets y_pred=clf.predict(X_test)\n",
        "#70%\n",
        "clf.fit(x_train_new_0,train_labels)\n",
        "\n",
        "#validation\n",
        "y_pred=clf.predict(X_valid_0)\n",
        "rf_pca_cost_0 = calculate_cost(validation_labels,y_pred)\n",
        "print(rf_pca_cost_0)"
      ],
      "execution_count": 52,
      "outputs": [
        {
          "output_type": "stream",
          "name": "stdout",
          "text": [
            "Accuracy: 0.953553\n",
            "Precision: 0.233560\n",
            "Recall: 0.872881\n",
            "F1 score: 0.368515\n",
            "ROC AUC: 0.913853\n",
            "[[7144  338]\n",
            " [  15  103]]\n",
            "(10880, 338, 15, 94.0)\n"
          ]
        }
      ]
    },
    {
      "cell_type": "code",
      "metadata": {
        "colab": {
          "base_uri": "https://localhost:8080/"
        },
        "id": "zEFUj9FA29KJ",
        "outputId": "79db37ec-aa99-4422-9a17-55d4c4923aa1"
      },
      "source": [
        "#testing 70\n",
        "y_pred=clf.predict(x_test_0)\n",
        "rf_pca_cost_0 = calculate_cost(test_labels,y_pred)\n",
        "print(rf_pca_cost_0)"
      ],
      "execution_count": 53,
      "outputs": [
        {
          "output_type": "stream",
          "name": "stdout",
          "text": [
            "Accuracy: 0.950921\n",
            "Precision: 0.257862\n",
            "Recall: 0.866197\n",
            "F1 score: 0.397415\n",
            "ROC AUC: 0.909366\n",
            "[[7104  354]\n",
            " [  19  123]]\n",
            "(13040, 354, 19, 93.47368421052632)\n"
          ]
        }
      ]
    },
    {
      "cell_type": "code",
      "metadata": {
        "colab": {
          "base_uri": "https://localhost:8080/"
        },
        "id": "yFj-7SfV0zrR",
        "outputId": "ee3cb4c0-8c3d-49dd-c877-52d7f7a91002"
      },
      "source": [
        "\n",
        "#Create a Gaussian Classifier\n",
        "clf = RandomForestClassifier(n_estimators=100 )\n",
        "\n",
        "#Train the model using the training sets y_pred=clf.predict(X_test)\n",
        "#75%\n",
        "clf.fit(x_train_new_1,train_labels)\n",
        "\n",
        "y_pred=clf.predict(X_valid_1)\n",
        "rf_pca_cost_1 = calculate_cost(validation_labels,y_pred)\n",
        "print(rf_pca_cost_1)"
      ],
      "execution_count": 54,
      "outputs": [
        {
          "output_type": "stream",
          "name": "stdout",
          "text": [
            "Accuracy: 0.958684\n",
            "Precision: 0.247423\n",
            "Recall: 0.813559\n",
            "F1 score: 0.379447\n",
            "ROC AUC: 0.887266\n",
            "[[7190  292]\n",
            " [  22   96]]\n",
            "(13920, 292, 22, 94.60526315789474)\n"
          ]
        }
      ]
    },
    {
      "cell_type": "code",
      "metadata": {
        "colab": {
          "base_uri": "https://localhost:8080/"
        },
        "id": "VmxYqifx4THp",
        "outputId": "b61bb1ba-1817-46bc-837a-78a29a9028a0"
      },
      "source": [
        "#testing 75\n",
        "y_pred=clf.predict(x_test_1)\n",
        "rf_pca_cost_1 = calculate_cost(test_labels,y_pred)\n",
        "print(rf_pca_cost_1)"
      ],
      "execution_count": 55,
      "outputs": [
        {
          "output_type": "stream",
          "name": "stdout",
          "text": [
            "Accuracy: 0.960395\n",
            "Precision: 0.300752\n",
            "Recall: 0.845070\n",
            "F1 score: 0.443623\n",
            "ROC AUC: 0.903830\n",
            "[[7179  279]\n",
            " [  22  120]]\n",
            "(13790, 279, 22, 94.46052631578948)\n"
          ]
        }
      ]
    },
    {
      "cell_type": "code",
      "metadata": {
        "colab": {
          "base_uri": "https://localhost:8080/"
        },
        "id": "Qxji7yhG30CW",
        "outputId": "03810e39-7063-49be-9c68-9b824b371d27"
      },
      "source": [
        "#Create a Gaussian Classifier\n",
        "clf = RandomForestClassifier(n_estimators=100 )\n",
        "\n",
        "#Train the model using the training sets y_pred=clf.predict(X_test)\n",
        "#80%\n",
        "clf.fit(x_train_new_2,train_labels)\n",
        "\n",
        "y_pred=clf.predict(X_valid_2)\n",
        "rf_pca_cost_2 = calculate_cost(validation_labels,y_pred)\n",
        "print(rf_pca_cost_2)"
      ],
      "execution_count": 56,
      "outputs": [
        {
          "output_type": "stream",
          "name": "stdout",
          "text": [
            "Accuracy: 0.965789\n",
            "Precision: 0.284848\n",
            "Recall: 0.796610\n",
            "F1 score: 0.419643\n",
            "ROC AUC: 0.882534\n",
            "[[7246  236]\n",
            " [  24   94]]\n",
            "(14360, 236, 24, 95.34210526315789)\n"
          ]
        }
      ]
    },
    {
      "cell_type": "code",
      "metadata": {
        "colab": {
          "base_uri": "https://localhost:8080/"
        },
        "id": "D4h_-j9e5H6m",
        "outputId": "59427102-81aa-4ad6-cef4-680636f721ef"
      },
      "source": [
        "#testing 80\n",
        "y_pred=clf.predict(x_test_2)\n",
        "rf_pca_cost_2 = calculate_cost(test_labels,y_pred)\n",
        "print(rf_pca_cost_2)"
      ],
      "execution_count": 57,
      "outputs": [
        {
          "output_type": "stream",
          "name": "stdout",
          "text": [
            "Accuracy: 0.967237\n",
            "Precision: 0.341246\n",
            "Recall: 0.809859\n",
            "F1 score: 0.480167\n",
            "ROC AUC: 0.890046\n",
            "[[7236  222]\n",
            " [  27  115]]\n",
            "(15720, 222, 27, 95.21052631578948)\n"
          ]
        }
      ]
    },
    {
      "cell_type": "code",
      "metadata": {
        "colab": {
          "base_uri": "https://localhost:8080/"
        },
        "id": "QWbY6MjO1pU5",
        "outputId": "05323db0-5066-46c4-845f-cac23992e571"
      },
      "source": [
        "#Create a Gaussian Classifier\n",
        "clf = RandomForestClassifier(n_estimators=100 )\n",
        "\n",
        "#Train the model using the training sets y_pred=clf.predict(X_test)\n",
        "#85%\n",
        "clf.fit(x_train_new_3,train_labels)\n",
        "\n",
        "y_pred=clf.predict(X_valid_3)\n",
        "rf_pca_cost_3 = calculate_cost(validation_labels,y_pred)\n",
        "print(rf_pca_cost_3)"
      ],
      "execution_count": 58,
      "outputs": [
        {
          "output_type": "stream",
          "name": "stdout",
          "text": [
            "Accuracy: 0.972500\n",
            "Precision: 0.333333\n",
            "Recall: 0.771186\n",
            "F1 score: 0.465473\n",
            "ROC AUC: 0.873431\n",
            "[[7300  182]\n",
            " [  27   91]]\n",
            "(15320, 182, 27, 96.05263157894737)\n"
          ]
        }
      ]
    },
    {
      "cell_type": "code",
      "metadata": {
        "colab": {
          "base_uri": "https://localhost:8080/"
        },
        "id": "Tx0RjVce5OGj",
        "outputId": "20a85689-6899-491b-d938-c7e27015ff34"
      },
      "source": [
        "#testing 85\n",
        "y_pred=clf.predict(x_test_3)\n",
        "rf_pca_cost_3 = calculate_cost(test_labels,y_pred)\n",
        "print(rf_pca_cost_3)"
      ],
      "execution_count": 59,
      "outputs": [
        {
          "output_type": "stream",
          "name": "stdout",
          "text": [
            "Accuracy: 0.973553\n",
            "Precision: 0.395018\n",
            "Recall: 0.781690\n",
            "F1 score: 0.524823\n",
            "ROC AUC: 0.879448\n",
            "[[7288  170]\n",
            " [  31  111]]\n",
            "(17200, 170, 31, 95.89473684210526)\n"
          ]
        }
      ]
    },
    {
      "cell_type": "code",
      "metadata": {
        "colab": {
          "base_uri": "https://localhost:8080/"
        },
        "id": "-UIwUlxQ2H_K",
        "outputId": "ad4677de-492f-4f26-af26-97ae62dc23ec"
      },
      "source": [
        "#Create a Gaussian Classifier\n",
        "clf = RandomForestClassifier(n_estimators=100 )\n",
        "\n",
        "#Train the model using the training sets y_pred=clf.predict(X_test)\n",
        "#90%\n",
        "clf.fit(x_train_new_4,train_labels)\n",
        "\n",
        "y_pred=clf.predict(X_valid_4)\n",
        "rf_pca_cost_4 = calculate_cost(validation_labels,y_pred)\n",
        "print(rf_pca_cost_4)"
      ],
      "execution_count": 60,
      "outputs": [
        {
          "output_type": "stream",
          "name": "stdout",
          "text": [
            "Accuracy: 0.980395\n",
            "Precision: 0.422111\n",
            "Recall: 0.711864\n",
            "F1 score: 0.529968\n",
            "ROC AUC: 0.848247\n",
            "[[7367  115]\n",
            " [  34   84]]\n",
            "(18150, 115, 34, 96.9342105263158)\n"
          ]
        }
      ]
    },
    {
      "cell_type": "code",
      "metadata": {
        "colab": {
          "base_uri": "https://localhost:8080/"
        },
        "id": "SG3c7eeX6NTj",
        "outputId": "9ad0dcee-81e7-4871-ddd1-2d8f9c37d4e2"
      },
      "source": [
        "#testing 90\n",
        "y_pred=clf.predict(x_test_4)\n",
        "rf_pca_cost_4 = calculate_cost(test_labels,y_pred)\n",
        "print(rf_pca_cost_4)"
      ],
      "execution_count": 61,
      "outputs": [
        {
          "output_type": "stream",
          "name": "stdout",
          "text": [
            "Accuracy: 0.982105\n",
            "Precision: 0.514151\n",
            "Recall: 0.767606\n",
            "F1 score: 0.615819\n",
            "ROC AUC: 0.876897\n",
            "[[7355  103]\n",
            " [  33  109]]\n",
            "(17530, 103, 33, 96.77631578947368)\n"
          ]
        }
      ]
    },
    {
      "cell_type": "markdown",
      "metadata": {
        "id": "SjC9HxxGL8so"
      },
      "source": [
        "### GB + PCA"
      ]
    },
    {
      "cell_type": "code",
      "metadata": {
        "colab": {
          "base_uri": "https://localhost:8080/"
        },
        "id": "6MCv3m4iMCPg",
        "outputId": "8ba3cead-08ba-421e-b7b5-09bd86357a15"
      },
      "source": [
        "from sklearn.ensemble import GradientBoostingClassifier\n",
        "\n",
        "clf = GradientBoostingClassifier(n_estimators=100, learning_rate=1.0,\\\n",
        "                                 max_depth=1, random_state=0)\n",
        "#Train the model using the training sets y_pred=clf.predict(X_test)\n",
        "#70%\n",
        "clf.fit(x_train_new_0,train_labels)\n",
        "\n",
        "#validation\n",
        "y_pred=clf.predict(X_valid_0)\n",
        "gb_pca_cost_0 = calculate_cost(validation_labels,y_pred)\n",
        "print(gb_pca_cost_0)"
      ],
      "execution_count": 62,
      "outputs": [
        {
          "output_type": "stream",
          "name": "stdout",
          "text": [
            "Accuracy: 0.931316\n",
            "Precision: 0.175241\n",
            "Recall: 0.923729\n",
            "F1 score: 0.294595\n",
            "ROC AUC: 0.927582\n",
            "[[6969  513]\n",
            " [   9  109]]\n",
            "(9630, 513, 9, 91.69736842105263)\n"
          ]
        }
      ]
    },
    {
      "cell_type": "code",
      "metadata": {
        "colab": {
          "base_uri": "https://localhost:8080/"
        },
        "id": "-Ly0jnpR8xev",
        "outputId": "51237f7b-2418-48d8-c0d0-97de9e9db6e7"
      },
      "source": [
        "#testing 70\n",
        "y_pred=clf.predict(x_test_0)\n",
        "gb_pca_cost_0 = calculate_cost(test_labels,y_pred)\n",
        "print(gb_pca_cost_0)"
      ],
      "execution_count": 63,
      "outputs": [
        {
          "output_type": "stream",
          "name": "stdout",
          "text": [
            "Accuracy: 0.930789\n",
            "Precision: 0.208207\n",
            "Recall: 0.964789\n",
            "F1 score: 0.342500\n",
            "ROC AUC: 0.947465\n",
            "[[6937  521]\n",
            " [   5  137]]\n",
            "(7710, 521, 5, 91.27631578947368)\n"
          ]
        }
      ]
    },
    {
      "cell_type": "code",
      "metadata": {
        "colab": {
          "base_uri": "https://localhost:8080/"
        },
        "id": "62j1DmX588xR",
        "outputId": "f20b8a39-b6f5-40af-d020-b19af2a72936"
      },
      "source": [
        "#75%\n",
        "clf = GradientBoostingClassifier(n_estimators=100, learning_rate=1.0,\\\n",
        "                                 max_depth=1, random_state=0)\n",
        "#Train the model using the training sets y_pred=clf.predict(X_test)\n",
        "#75%\n",
        "clf.fit(x_train_new_1,train_labels)\n",
        "\n",
        "#validation\n",
        "y_pred=clf.predict(X_valid_1)\n",
        "gb_pca_cost_1 = calculate_cost(validation_labels,y_pred)\n",
        "print(gb_pca_cost_1)"
      ],
      "execution_count": 64,
      "outputs": [
        {
          "output_type": "stream",
          "name": "stdout",
          "text": [
            "Accuracy: 0.932763\n",
            "Precision: 0.176277\n",
            "Recall: 0.906780\n",
            "F1 score: 0.295172\n",
            "ROC AUC: 0.919976\n",
            "[[6982  500]\n",
            " [  11  107]]\n",
            "(10500, 500, 11, 91.86842105263158)\n"
          ]
        }
      ]
    },
    {
      "cell_type": "code",
      "metadata": {
        "colab": {
          "base_uri": "https://localhost:8080/"
        },
        "id": "r2LPIClo88oT",
        "outputId": "ba3631c5-943b-4344-aead-49c8f7bc772b"
      },
      "source": [
        "#testing 75\n",
        "y_pred=clf.predict(x_test_1)\n",
        "gb_pca_cost_1 = calculate_cost(test_labels,y_pred)\n",
        "print(gb_pca_cost_1)"
      ],
      "execution_count": 65,
      "outputs": [
        {
          "output_type": "stream",
          "name": "stdout",
          "text": [
            "Accuracy: 0.933289\n",
            "Precision: 0.213501\n",
            "Recall: 0.957746\n",
            "F1 score: 0.349166\n",
            "ROC AUC: 0.945285\n",
            "[[6957  501]\n",
            " [   6  136]]\n",
            "(8010, 501, 6, 91.53947368421052)\n"
          ]
        }
      ]
    },
    {
      "cell_type": "code",
      "metadata": {
        "colab": {
          "base_uri": "https://localhost:8080/"
        },
        "id": "P68tzIdd88eJ",
        "outputId": "0e41512e-34a2-4d91-c44b-372a5b4891ce"
      },
      "source": [
        "#80%\n",
        "clf = GradientBoostingClassifier(n_estimators=100, learning_rate=1.0,\\\n",
        "                                 max_depth=1, random_state=0)\n",
        "\n",
        "#Train the model using the training sets y_pred=clf.predict(X_test)\n",
        "#80%\n",
        "clf.fit(x_train_new_2,train_labels)\n",
        "\n",
        "#validation\n",
        "y_pred=clf.predict(X_valid_2)\n",
        "gb_pca_cost_2 = calculate_cost(validation_labels,y_pred)\n",
        "print(gb_pca_cost_2)"
      ],
      "execution_count": 66,
      "outputs": [
        {
          "output_type": "stream",
          "name": "stdout",
          "text": [
            "Accuracy: 0.933289\n",
            "Precision: 0.179572\n",
            "Recall: 0.923729\n",
            "F1 score: 0.300690\n",
            "ROC AUC: 0.928585\n",
            "[[6984  498]\n",
            " [   9  109]]\n",
            "(9480, 498, 9, 91.89473684210526)\n"
          ]
        }
      ]
    },
    {
      "cell_type": "code",
      "metadata": {
        "colab": {
          "base_uri": "https://localhost:8080/"
        },
        "id": "KpiBNmkv88Sl",
        "outputId": "99170e0a-9501-4e3a-a481-f5b7074bad2d"
      },
      "source": [
        "#testing 80\n",
        "y_pred=clf.predict(x_test_2)\n",
        "gb_pca_cost_2 = calculate_cost(test_labels,y_pred)\n",
        "print(gb_pca_cost_2)"
      ],
      "execution_count": 67,
      "outputs": [
        {
          "output_type": "stream",
          "name": "stdout",
          "text": [
            "Accuracy: 0.935921\n",
            "Precision: 0.220421\n",
            "Recall: 0.957746\n",
            "F1 score: 0.358366\n",
            "ROC AUC: 0.946626\n",
            "[[6977  481]\n",
            " [   6  136]]\n",
            "(7810, 481, 6, 91.80263157894737)\n"
          ]
        }
      ]
    },
    {
      "cell_type": "code",
      "metadata": {
        "colab": {
          "base_uri": "https://localhost:8080/"
        },
        "id": "-7qNJrS1874-",
        "outputId": "4468b06e-941f-4c52-c45e-6c3dbb9c5fa6"
      },
      "source": [
        "#85%\n",
        "clf = GradientBoostingClassifier(n_estimators=100, learning_rate=1.0,\\\n",
        "                                 max_depth=1, random_state=0)\n",
        "\n",
        "\n",
        "#Train the model using the training sets y_pred=clf.predict(X_test)\n",
        "#80%\n",
        "clf.fit(x_train_new_3,train_labels)\n",
        "\n",
        "#validation\n",
        "y_pred=clf.predict(X_valid_3)\n",
        "gb_pca_cost_3 = calculate_cost(validation_labels,y_pred)\n",
        "print(gb_pca_cost_3)"
      ],
      "execution_count": 68,
      "outputs": [
        {
          "output_type": "stream",
          "name": "stdout",
          "text": [
            "Accuracy: 0.945132\n",
            "Precision: 0.209709\n",
            "Recall: 0.915254\n",
            "F1 score: 0.341232\n",
            "ROC AUC: 0.930429\n",
            "[[7075  407]\n",
            " [  10  108]]\n",
            "(9070, 407, 10, 93.0921052631579)\n"
          ]
        }
      ]
    },
    {
      "cell_type": "code",
      "metadata": {
        "colab": {
          "base_uri": "https://localhost:8080/"
        },
        "id": "rxzY0Aoq87nh",
        "outputId": "8b3f2fca-d1f3-460d-a7b3-6df293d90121"
      },
      "source": [
        "#testing 85\n",
        "y_pred=clf.predict(x_test_3)\n",
        "gb_pca_cost_3 = calculate_cost(test_labels,y_pred)\n",
        "print(gb_pca_cost_3)"
      ],
      "execution_count": 69,
      "outputs": [
        {
          "output_type": "stream",
          "name": "stdout",
          "text": [
            "Accuracy: 0.947895\n",
            "Precision: 0.257634\n",
            "Recall: 0.950704\n",
            "F1 score: 0.405405\n",
            "ROC AUC: 0.949273\n",
            "[[7069  389]\n",
            " [   7  135]]\n",
            "(7390, 389, 7, 93.01315789473684)\n"
          ]
        }
      ]
    },
    {
      "cell_type": "code",
      "metadata": {
        "colab": {
          "base_uri": "https://localhost:8080/"
        },
        "id": "UTbMFqEY864d",
        "outputId": "caecc49c-459c-4b9b-ff67-cb75e69ef583"
      },
      "source": [
        "#90%\n",
        "clf = GradientBoostingClassifier(n_estimators=100, learning_rate=1.0,\\\n",
        "                                 max_depth=1, random_state=0)\n",
        "\n",
        "\n",
        "#Train the model using the training sets y_pred=clf.predict(X_test)\n",
        "#80%\n",
        "clf.fit(x_train_new_4,train_labels)\n",
        "\n",
        "#validation\n",
        "y_pred=clf.predict(X_valid_4)\n",
        "gb_pca_cost_4 = calculate_cost(validation_labels,y_pred)\n",
        "print(gb_pca_cost_4)\n"
      ],
      "execution_count": 70,
      "outputs": [
        {
          "output_type": "stream",
          "name": "stdout",
          "text": [
            "Accuracy: 0.947105\n",
            "Precision: 0.212551\n",
            "Recall: 0.889831\n",
            "F1 score: 0.343137\n",
            "ROC AUC: 0.918920\n",
            "[[7093  389]\n",
            " [  13  105]]\n",
            "(10390, 389, 13, 93.32894736842105)\n"
          ]
        }
      ]
    },
    {
      "cell_type": "code",
      "metadata": {
        "colab": {
          "base_uri": "https://localhost:8080/"
        },
        "id": "CMgt7YMp86rY",
        "outputId": "7df99266-e3c4-487a-8c57-22db47e44a8c"
      },
      "source": [
        "#testing 90\n",
        "y_pred=clf.predict(x_test_4)\n",
        "gb_pca_cost_4 = calculate_cost(test_labels,y_pred)\n",
        "print(gb_pca_cost_4)"
      ],
      "execution_count": 71,
      "outputs": [
        {
          "output_type": "stream",
          "name": "stdout",
          "text": [
            "Accuracy: 0.953289\n",
            "Precision: 0.278586\n",
            "Recall: 0.943662\n",
            "F1 score: 0.430177\n",
            "ROC AUC: 0.948567\n",
            "[[7111  347]\n",
            " [   8  134]]\n",
            "(7470, 347, 8, 93.56578947368422)\n"
          ]
        }
      ]
    },
    {
      "cell_type": "markdown",
      "metadata": {
        "id": "_GCq15lWMC02"
      },
      "source": [
        "### XGBoost + PCA"
      ]
    },
    {
      "cell_type": "code",
      "metadata": {
        "colab": {
          "base_uri": "https://localhost:8080/"
        },
        "id": "sDRyiUUaM-6c",
        "outputId": "cb3815a0-5abe-4dcc-bdaa-d17913e537e7"
      },
      "source": [
        "from sklearn.ensemble import GradientBoostingClassifier\n",
        "# fit model no training data\n",
        "clf = XGBClassifier(base_score=0.5, booster='gbtree', colsample_bylevel=1,\n",
        "              colsample_bynode=1, colsample_bytree=0.3, gamma=0.4,\n",
        "              learning_rate=0.15, max_delta_step=0, max_depth=15,\n",
        "              min_child_weight=1, missing=None, n_estimators=100, n_jobs=1,\n",
        "              nthread=None, objective='binary:logistic', random_state=42,\n",
        "              reg_alpha=0, reg_lambda=1, scale_pos_weight=1, seed=None,\n",
        "              silent=None, subsample=1, verbosity=1)\n",
        "\n",
        "#Train the model using the training sets y_pred=clf.predict(X_test)\n",
        "#70%\n",
        "clf.fit(x_train_new_0,train_labels)\n",
        "\n",
        "#validation\n",
        "y_pred=clf.predict(X_valid_0)\n",
        "xgb_pca_cost_0 = calculate_cost(validation_labels,y_pred)\n",
        "print(xgb_pca_cost_0)"
      ],
      "execution_count": 72,
      "outputs": [
        {
          "output_type": "stream",
          "name": "stdout",
          "text": [
            "Accuracy: 0.927105\n",
            "Precision: 0.164615\n",
            "Recall: 0.906780\n",
            "F1 score: 0.278646\n",
            "ROC AUC: 0.917103\n",
            "[[6939  543]\n",
            " [  11  107]]\n",
            "(10930, 543, 11, 91.30263157894737)\n"
          ]
        }
      ]
    },
    {
      "cell_type": "code",
      "metadata": {
        "colab": {
          "base_uri": "https://localhost:8080/"
        },
        "id": "bKvHjtHfM-6m",
        "outputId": "efbccb53-0d5b-474b-bbe8-661e54f28cad"
      },
      "source": [
        "#testing 70\n",
        "y_pred=clf.predict(x_test_0)\n",
        "xgb_pca_cost_0 = calculate_cost(test_labels,y_pred)\n",
        "print(xgb_pca_cost_0)"
      ],
      "execution_count": 73,
      "outputs": [
        {
          "output_type": "stream",
          "name": "stdout",
          "text": [
            "Accuracy: 0.925789\n",
            "Precision: 0.193314\n",
            "Recall: 0.936620\n",
            "F1 score: 0.320482\n",
            "ROC AUC: 0.931101\n",
            "[[6903  555]\n",
            " [   9  133]]\n",
            "(10050, 555, 9, 90.82894736842105)\n"
          ]
        }
      ]
    },
    {
      "cell_type": "code",
      "metadata": {
        "id": "aYPY545YM-6n",
        "colab": {
          "base_uri": "https://localhost:8080/"
        },
        "outputId": "b00a64cc-5214-450c-9990-dac3bcf08fe7"
      },
      "source": [
        "#75%\n",
        "# fit model no training data\n",
        "clf = XGBClassifier(base_score=0.5, booster='gbtree', colsample_bylevel=1,\n",
        "              colsample_bynode=1, colsample_bytree=0.3, gamma=0.4,\n",
        "              learning_rate=0.15, max_delta_step=0, max_depth=15,\n",
        "              min_child_weight=1, missing=None, n_estimators=100, n_jobs=1,\n",
        "              nthread=None, objective='binary:logistic', random_state=42,\n",
        "              reg_alpha=0, reg_lambda=1, scale_pos_weight=1, seed=None,\n",
        "              silent=None, subsample=1, verbosity=1)\n",
        "\n",
        "#Train the model using the training sets y_pred=clf.predict(X_test)\n",
        "#75%\n",
        "clf.fit(x_train_new_1,train_labels)\n",
        "\n",
        "#validation\n",
        "y_pred=clf.predict(X_valid_1)\n",
        "xgb_pca_cost_1 = calculate_cost(validation_labels,y_pred)\n",
        "print(xgb_pca_cost_1)"
      ],
      "execution_count": 74,
      "outputs": [
        {
          "output_type": "stream",
          "name": "stdout",
          "text": [
            "Accuracy: 0.921974\n",
            "Precision: 0.150221\n",
            "Recall: 0.864407\n",
            "F1 score: 0.255960\n",
            "ROC AUC: 0.893644\n",
            "[[6905  577]\n",
            " [  16  102]]\n",
            "(13770, 577, 16, 90.85526315789474)\n"
          ]
        }
      ]
    },
    {
      "cell_type": "code",
      "metadata": {
        "id": "zw6CaZzCM-6n",
        "colab": {
          "base_uri": "https://localhost:8080/"
        },
        "outputId": "a4e7369e-4f96-4543-9949-96da3342303f"
      },
      "source": [
        "#testing 75\n",
        "y_pred=clf.predict(x_test_1)\n",
        "xgb_pca_cost_1 = calculate_cost(test_labels,y_pred)\n",
        "print(xgb_pca_cost_1)"
      ],
      "execution_count": 75,
      "outputs": [
        {
          "output_type": "stream",
          "name": "stdout",
          "text": [
            "Accuracy: 0.924342\n",
            "Precision: 0.190272\n",
            "Recall: 0.936620\n",
            "F1 score: 0.316290\n",
            "ROC AUC: 0.930364\n",
            "[[6892  566]\n",
            " [   9  133]]\n",
            "(10160, 566, 9, 90.6842105263158)\n"
          ]
        }
      ]
    },
    {
      "cell_type": "code",
      "metadata": {
        "id": "2gZvCtEmM-6n",
        "colab": {
          "base_uri": "https://localhost:8080/"
        },
        "outputId": "44d181a1-9772-425b-8387-e8925fe8d20e"
      },
      "source": [
        "#80%\n",
        "# fit model no training data\n",
        "clf = XGBClassifier(base_score=0.5, booster='gbtree', colsample_bylevel=1,\n",
        "              colsample_bynode=1, colsample_bytree=0.3, gamma=0.4,\n",
        "              learning_rate=0.15, max_delta_step=0, max_depth=15,\n",
        "              min_child_weight=1, missing=None, n_estimators=100, n_jobs=1,\n",
        "              nthread=None, objective='binary:logistic', random_state=42,\n",
        "              reg_alpha=0, reg_lambda=1, scale_pos_weight=1, seed=None,\n",
        "              silent=None, subsample=1, verbosity=1)\n",
        "\n",
        "\n",
        "#Train the model using the training sets y_pred=clf.predict(X_test)\n",
        "#80%\n",
        "clf.fit(x_train_new_2,train_labels)\n",
        "\n",
        "#validation\n",
        "y_pred=clf.predict(X_valid_2)\n",
        "xgb_pca_cost_2 = calculate_cost(validation_labels,y_pred)\n",
        "print(xgb_pca_cost_2)"
      ],
      "execution_count": 76,
      "outputs": [
        {
          "output_type": "stream",
          "name": "stdout",
          "text": [
            "Accuracy: 0.926316\n",
            "Precision: 0.162080\n",
            "Recall: 0.898305\n",
            "F1 score: 0.274611\n",
            "ROC AUC: 0.912531\n",
            "[[6934  548]\n",
            " [  12  106]]\n",
            "(11480, 548, 12, 91.23684210526316)\n"
          ]
        }
      ]
    },
    {
      "cell_type": "code",
      "metadata": {
        "id": "Hq5_ZEfOM-6n",
        "colab": {
          "base_uri": "https://localhost:8080/"
        },
        "outputId": "97650266-bfb5-4bf6-827f-a69c31525e07"
      },
      "source": [
        "#testing 80\n",
        "y_pred=clf.predict(x_test_2)\n",
        "xgb_pca_cost_2 = calculate_cost(test_labels,y_pred)\n",
        "print(xgb_pca_cost_2)"
      ],
      "execution_count": 77,
      "outputs": [
        {
          "output_type": "stream",
          "name": "stdout",
          "text": [
            "Accuracy: 0.929211\n",
            "Precision: 0.204478\n",
            "Recall: 0.964789\n",
            "F1 score: 0.337438\n",
            "ROC AUC: 0.946661\n",
            "[[6925  533]\n",
            " [   5  137]]\n",
            "(7830, 533, 5, 91.11842105263158)\n"
          ]
        }
      ]
    },
    {
      "cell_type": "code",
      "metadata": {
        "id": "lZaOjWi3M-6n",
        "colab": {
          "base_uri": "https://localhost:8080/"
        },
        "outputId": "a39144e4-e1cd-4f27-c417-ea89c9597d48"
      },
      "source": [
        "#85%\n",
        "# fit model no training data\n",
        "clf = XGBClassifier(base_score=0.5, booster='gbtree', colsample_bylevel=1,\n",
        "              colsample_bynode=1, colsample_bytree=0.3, gamma=0.4,\n",
        "              learning_rate=0.15, max_delta_step=0, max_depth=15,\n",
        "              min_child_weight=1, missing=None, n_estimators=100, n_jobs=1,\n",
        "              nthread=None, objective='binary:logistic', random_state=42,\n",
        "              reg_alpha=0, reg_lambda=1, scale_pos_weight=1, seed=None,\n",
        "              silent=None, subsample=1, verbosity=1)\n",
        "\n",
        "\n",
        "\n",
        "#Train the model using the training sets y_pred=clf.predict(X_test)\n",
        "#80%\n",
        "clf.fit(x_train_new_3,train_labels)\n",
        "\n",
        "#validation\n",
        "y_pred=clf.predict(X_valid_3)\n",
        "xgb_pca_cost_3 = calculate_cost(validation_labels,y_pred)\n",
        "print(xgb_pca_cost_3)"
      ],
      "execution_count": 78,
      "outputs": [
        {
          "output_type": "stream",
          "name": "stdout",
          "text": [
            "Accuracy: 0.965526\n",
            "Precision: 0.286982\n",
            "Recall: 0.822034\n",
            "F1 score: 0.425439\n",
            "ROC AUC: 0.894912\n",
            "[[7241  241]\n",
            " [  21   97]]\n",
            "(12910, 241, 21, 95.27631578947368)\n"
          ]
        }
      ]
    },
    {
      "cell_type": "code",
      "metadata": {
        "id": "hbieWB87M-6n",
        "colab": {
          "base_uri": "https://localhost:8080/"
        },
        "outputId": "1eeb893e-2d9e-4e34-a533-eea212d1cdac"
      },
      "source": [
        "#testing 85\n",
        "y_pred=clf.predict(x_test_3)\n",
        "xgb_pca_cost_3 = calculate_cost(test_labels,y_pred)\n",
        "print(xgb_pca_cost_3)"
      ],
      "execution_count": 79,
      "outputs": [
        {
          "output_type": "stream",
          "name": "stdout",
          "text": [
            "Accuracy: 0.966579\n",
            "Precision: 0.341808\n",
            "Recall: 0.852113\n",
            "F1 score: 0.487903\n",
            "ROC AUC: 0.910436\n",
            "[[7225  233]\n",
            " [  21  121]]\n",
            "(12830, 233, 21, 95.06578947368422)\n"
          ]
        }
      ]
    },
    {
      "cell_type": "code",
      "metadata": {
        "id": "TPopPLzsM-6n",
        "colab": {
          "base_uri": "https://localhost:8080/"
        },
        "outputId": "26471492-b4f4-485a-e6b3-eef0a68d3481"
      },
      "source": [
        "#90%\n",
        "# fit model no training data\n",
        "clf = XGBClassifier(base_score=0.5, booster='gbtree', colsample_bylevel=1,\n",
        "              colsample_bynode=1, colsample_bytree=0.3, gamma=0.4,\n",
        "              learning_rate=0.15, max_delta_step=0, max_depth=15,\n",
        "              min_child_weight=1, missing=None, n_estimators=100, n_jobs=1,\n",
        "              nthread=None, objective='binary:logistic', random_state=42,\n",
        "              reg_alpha=0, reg_lambda=1, scale_pos_weight=1, seed=None,\n",
        "              silent=None, subsample=1, verbosity=1)\n",
        "\n",
        "\n",
        "\n",
        "#Train the model using the training sets y_pred=clf.predict(X_test)\n",
        "#80%\n",
        "clf.fit(x_train_new_4,train_labels)\n",
        "\n",
        "#validation\n",
        "y_pred=clf.predict(X_valid_4)\n",
        "xgb_pca_cost_4 = calculate_cost(validation_labels,y_pred)\n",
        "print(xgb_pca_cost_4)\n"
      ],
      "execution_count": 80,
      "outputs": [
        {
          "output_type": "stream",
          "name": "stdout",
          "text": [
            "Accuracy: 0.978947\n",
            "Precision: 0.407080\n",
            "Recall: 0.779661\n",
            "F1 score: 0.534884\n",
            "ROC AUC: 0.880876\n",
            "[[7348  134]\n",
            " [  26   92]]\n",
            "(14340, 134, 26, 96.6842105263158)\n"
          ]
        }
      ]
    },
    {
      "cell_type": "code",
      "metadata": {
        "id": "8LaNDXIbM-6p",
        "colab": {
          "base_uri": "https://localhost:8080/"
        },
        "outputId": "dfb6846e-21fc-434a-e998-ff2fcc3a7e80"
      },
      "source": [
        "#testing 90\n",
        "y_pred=clf.predict(x_test_4)\n",
        "xgb_pca_cost_4 = calculate_cost(test_labels,y_pred)\n",
        "print(xgb_pca_cost_4)"
      ],
      "execution_count": 81,
      "outputs": [
        {
          "output_type": "stream",
          "name": "stdout",
          "text": [
            "Accuracy: 0.979737\n",
            "Precision: 0.475410\n",
            "Recall: 0.816901\n",
            "F1 score: 0.601036\n",
            "ROC AUC: 0.899869\n",
            "[[7330  128]\n",
            " [  26  116]]\n",
            "(14280, 128, 26, 96.44736842105263)\n"
          ]
        }
      ]
    },
    {
      "cell_type": "markdown",
      "metadata": {
        "id": "SZNzFv4VMp9p"
      },
      "source": [
        "### NN + PCA"
      ]
    },
    {
      "cell_type": "code",
      "metadata": {
        "id": "3amMZYaVPNZe",
        "colab": {
          "base_uri": "https://localhost:8080/"
        },
        "outputId": "e2ac3b15-2623-4783-d24f-2ec6e22a9a1f"
      },
      "source": [
        "## Neural netowrk with chi square\n",
        "import tensorflow as tf \n",
        "from tensorflow import keras \n",
        "from sklearn.model_selection import train_test_split\n",
        "from sklearn.neural_network import MLPClassifier\n",
        "\n",
        "clf = MLPClassifier(activation='relu', solver='adam', alpha=1e-5,hidden_layer_sizes=(10,), random_state=1,max_iter=1500)\n",
        "\n",
        "#70%\n",
        "clf.fit(x_train_new_0,train_labels)\n",
        "\n",
        "#validation\n",
        "y_pred=clf.predict(X_valid_0)\n",
        "nn_pca_cost_0 = calculate_cost(validation_labels,y_pred)\n",
        "print(nn_pca_cost_0)"
      ],
      "execution_count": 82,
      "outputs": [
        {
          "output_type": "stream",
          "name": "stdout",
          "text": [
            "Accuracy: 0.929605\n",
            "Precision: 0.175739\n",
            "Recall: 0.957627\n",
            "F1 score: 0.296978\n",
            "ROC AUC: 0.943395\n",
            "[[6952  530]\n",
            " [   5  113]]\n",
            "(7800, 530, 5, 91.47368421052632)\n"
          ]
        }
      ]
    },
    {
      "cell_type": "code",
      "metadata": {
        "id": "XvbCTlYbPNZg",
        "colab": {
          "base_uri": "https://localhost:8080/"
        },
        "outputId": "6cc1f643-b161-4096-da40-652572d67a9d"
      },
      "source": [
        "#testing 70\n",
        "y_pred=clf.predict(x_test_0)\n",
        "nn_pca_cost_0 = calculate_cost(test_labels,y_pred)\n",
        "print(nn_pca_cost_0)"
      ],
      "execution_count": 83,
      "outputs": [
        {
          "output_type": "stream",
          "name": "stdout",
          "text": [
            "Accuracy: 0.928553\n",
            "Precision: 0.198496\n",
            "Recall: 0.929577\n",
            "F1 score: 0.327138\n",
            "ROC AUC: 0.929055\n",
            "[[6925  533]\n",
            " [  10  132]]\n",
            "(10330, 533, 10, 91.11842105263158)\n"
          ]
        }
      ]
    },
    {
      "cell_type": "code",
      "metadata": {
        "id": "li1cDD6GPNZg",
        "colab": {
          "base_uri": "https://localhost:8080/"
        },
        "outputId": "190590a3-2c99-430b-faeb-7e695ca6840b"
      },
      "source": [
        "#75%\n",
        "# fit model no training data\n",
        "## Neural netowrk with chi square\n",
        "import tensorflow as tf \n",
        "from tensorflow import keras \n",
        "from sklearn.model_selection import train_test_split\n",
        "from sklearn.neural_network import MLPClassifier\n",
        "\n",
        "clf = MLPClassifier(activation='relu', solver='adam', alpha=1e-5,hidden_layer_sizes=(10,), random_state=1,max_iter=1500)\n",
        "#75%\n",
        "clf.fit(x_train_new_1,train_labels)\n",
        "\n",
        "#validation\n",
        "y_pred=clf.predict(X_valid_1)\n",
        "nn_pca_cost_1 = calculate_cost(validation_labels,y_pred)\n",
        "print(nn_pca_cost_1)"
      ],
      "execution_count": 84,
      "outputs": [
        {
          "output_type": "stream",
          "name": "stdout",
          "text": [
            "Accuracy: 0.927632\n",
            "Precision: 0.169725\n",
            "Recall: 0.940678\n",
            "F1 score: 0.287565\n",
            "ROC AUC: 0.934052\n",
            "[[6939  543]\n",
            " [   7  111]]\n",
            "(8930, 543, 7, 91.30263157894737)\n"
          ]
        }
      ]
    },
    {
      "cell_type": "code",
      "metadata": {
        "id": "hX_-PmtHPNZg",
        "colab": {
          "base_uri": "https://localhost:8080/"
        },
        "outputId": "2c284d2c-6e9e-434f-bef7-76047b623a0f"
      },
      "source": [
        "#testing 75\n",
        "y_pred=clf.predict(x_test_1)\n",
        "nn_pca_cost_1 = calculate_cost(test_labels,y_pred)\n",
        "print(nn_pca_cost_1)"
      ],
      "execution_count": 85,
      "outputs": [
        {
          "output_type": "stream",
          "name": "stdout",
          "text": [
            "Accuracy: 0.928947\n",
            "Precision: 0.202096\n",
            "Recall: 0.950704\n",
            "F1 score: 0.333333\n",
            "ROC AUC: 0.939619\n",
            "[[6925  533]\n",
            " [   7  135]]\n",
            "(8830, 533, 7, 91.11842105263158)\n"
          ]
        }
      ]
    },
    {
      "cell_type": "code",
      "metadata": {
        "id": "hjyStUsmPNZg",
        "colab": {
          "base_uri": "https://localhost:8080/"
        },
        "outputId": "1032fa33-e306-4825-c7c2-1aaf9b7fe54c"
      },
      "source": [
        "#80%\n",
        "# fit model no training data\n",
        "## Neural netowrk with chi square\n",
        "import tensorflow as tf \n",
        "from tensorflow import keras \n",
        "from sklearn.model_selection import train_test_split\n",
        "from sklearn.neural_network import MLPClassifier\n",
        "\n",
        "clf = MLPClassifier(activation='relu', solver='adam', alpha=1e-5,hidden_layer_sizes=(10,), random_state=1,max_iter=1500)\n",
        "#80%\n",
        "clf.fit(x_train_new_2,train_labels)\n",
        "\n",
        "#validation\n",
        "y_pred=clf.predict(X_valid_2)\n",
        "nn_pca_cost_2 = calculate_cost(validation_labels,y_pred)\n",
        "print(nn_pca_cost_2)"
      ],
      "execution_count": 86,
      "outputs": [
        {
          "output_type": "stream",
          "name": "stdout",
          "text": [
            "Accuracy: 0.933816\n",
            "Precision: 0.179700\n",
            "Recall: 0.915254\n",
            "F1 score: 0.300417\n",
            "ROC AUC: 0.924681\n",
            "[[6989  493]\n",
            " [  10  108]]\n",
            "(9930, 493, 10, 91.96052631578947)\n"
          ]
        }
      ]
    },
    {
      "cell_type": "code",
      "metadata": {
        "id": "DEB78_u8PNZg",
        "colab": {
          "base_uri": "https://localhost:8080/"
        },
        "outputId": "3cf0f2fb-47f8-4574-f741-c0424cff76ec"
      },
      "source": [
        "#testing 80\n",
        "y_pred=clf.predict(x_test_2)\n",
        "nn_pca_cost_2 = calculate_cost(test_labels,y_pred)\n",
        "print(nn_pca_cost_2)"
      ],
      "execution_count": 87,
      "outputs": [
        {
          "output_type": "stream",
          "name": "stdout",
          "text": [
            "Accuracy: 0.934474\n",
            "Precision: 0.215655\n",
            "Recall: 0.950704\n",
            "F1 score: 0.351562\n",
            "ROC AUC: 0.942434\n",
            "[[6967  491]\n",
            " [   7  135]]\n",
            "(8410, 491, 7, 91.67105263157895)\n"
          ]
        }
      ]
    },
    {
      "cell_type": "code",
      "metadata": {
        "id": "cUtq0QVnPNZg",
        "colab": {
          "base_uri": "https://localhost:8080/"
        },
        "outputId": "1385c6ae-ef7e-4cb3-a81d-559ea3502d66"
      },
      "source": [
        "#85%\n",
        "# fit model no training data\n",
        "## Neural netowrk with chi square\n",
        "import tensorflow as tf \n",
        "from tensorflow import keras \n",
        "from sklearn.model_selection import train_test_split\n",
        "from sklearn.neural_network import MLPClassifier\n",
        "\n",
        "clf = MLPClassifier(activation='relu', solver='adam', alpha=1e-5,hidden_layer_sizes=(10,), random_state=1,max_iter=1500)\n",
        "#85%\n",
        "clf.fit(x_train_new_3,train_labels)\n",
        "\n",
        "#validation\n",
        "y_pred=clf.predict(X_valid_3)\n",
        "nn_pca_cost_3 = calculate_cost(validation_labels,y_pred)\n",
        "print(nn_pca_cost_3)"
      ],
      "execution_count": 88,
      "outputs": [
        {
          "output_type": "stream",
          "name": "stdout",
          "text": [
            "Accuracy: 0.946579\n",
            "Precision: 0.217647\n",
            "Recall: 0.940678\n",
            "F1 score: 0.353503\n",
            "ROC AUC: 0.943675\n",
            "[[7083  399]\n",
            " [   7  111]]\n",
            "(7490, 399, 7, 93.19736842105263)\n"
          ]
        }
      ]
    },
    {
      "cell_type": "code",
      "metadata": {
        "id": "x1o_lEr5PNZh",
        "colab": {
          "base_uri": "https://localhost:8080/"
        },
        "outputId": "1c16f363-4ba4-4f51-c9ff-5a28abea0c77"
      },
      "source": [
        "#testing 85\n",
        "y_pred=clf.predict(x_test_3)\n",
        "nn_pca_cost_3 = calculate_cost(test_labels,y_pred)\n",
        "print(nn_pca_cost_3)"
      ],
      "execution_count": 89,
      "outputs": [
        {
          "output_type": "stream",
          "name": "stdout",
          "text": [
            "Accuracy: 0.946316\n",
            "Precision: 0.247148\n",
            "Recall: 0.915493\n",
            "F1 score: 0.389222\n",
            "ROC AUC: 0.931198\n",
            "[[7062  396]\n",
            " [  12  130]]\n",
            "(9960, 396, 12, 92.92105263157895)\n"
          ]
        }
      ]
    },
    {
      "cell_type": "code",
      "metadata": {
        "id": "oLMNOIwxPNZh",
        "colab": {
          "base_uri": "https://localhost:8080/"
        },
        "outputId": "d7093089-ceb1-4654-c936-55398ef92e47"
      },
      "source": [
        "#90%\n",
        "# fit model no training data\n",
        "## Neural netowrk with chi square\n",
        "import tensorflow as tf \n",
        "from tensorflow import keras \n",
        "from sklearn.model_selection import train_test_split\n",
        "from sklearn.neural_network import MLPClassifier\n",
        "\n",
        "clf = MLPClassifier(activation='relu', solver='adam', alpha=1e-5,hidden_layer_sizes=(10,), random_state=1,max_iter=1500)\n",
        "\n",
        "#90%\n",
        "clf.fit(x_train_new_4,train_labels)\n",
        "\n",
        "#validation\n",
        "y_pred=clf.predict(X_valid_4)\n",
        "nn_pca_cost_4 = calculate_cost(validation_labels,y_pred)\n",
        "print(nn_pca_cost_4)\n"
      ],
      "execution_count": 90,
      "outputs": [
        {
          "output_type": "stream",
          "name": "stdout",
          "text": [
            "Accuracy: 0.958026\n",
            "Precision: 0.260143\n",
            "Recall: 0.923729\n",
            "F1 score: 0.405959\n",
            "ROC AUC: 0.941148\n",
            "[[7172  310]\n",
            " [   9  109]]\n",
            "(7600, 310, 9, 94.36842105263158)\n"
          ]
        }
      ]
    },
    {
      "cell_type": "code",
      "metadata": {
        "id": "nN5yJREnPNZh",
        "colab": {
          "base_uri": "https://localhost:8080/"
        },
        "outputId": "3f45574b-6ccf-48dc-f0ce-01759286c656"
      },
      "source": [
        "#testing 90\n",
        "y_pred=clf.predict(x_test_4)\n",
        "nn_pca_cost_4 = calculate_cost(test_labels,y_pred)\n",
        "print(nn_pca_cost_4)"
      ],
      "execution_count": 91,
      "outputs": [
        {
          "output_type": "stream",
          "name": "stdout",
          "text": [
            "Accuracy: 0.963553\n",
            "Precision: 0.325581\n",
            "Recall: 0.887324\n",
            "F1 score: 0.476371\n",
            "ROC AUC: 0.926164\n",
            "[[7197  261]\n",
            " [  16  126]]\n",
            "(10610, 261, 16, 94.69736842105263)\n"
          ]
        }
      ]
    },
    {
      "cell_type": "markdown",
      "metadata": {
        "id": "vGxZ5MpBjrj1"
      },
      "source": [
        "roc nn1"
      ]
    },
    {
      "cell_type": "code",
      "metadata": {
        "id": "uMky88Y_jmxI"
      },
      "source": [
        "lr_fpr_pca_nn, lr_tpr_pca_nn, _ = roc_curve(test_labels,y_pred)\n"
      ],
      "execution_count": 92,
      "outputs": []
    },
    {
      "cell_type": "markdown",
      "metadata": {
        "id": "NVZqPUWnMxOk"
      },
      "source": [
        "### SVM + PCA"
      ]
    },
    {
      "cell_type": "code",
      "metadata": {
        "id": "Ba8vWHjfPMbQ",
        "colab": {
          "base_uri": "https://localhost:8080/"
        },
        "outputId": "1517cfd4-40a7-45a7-9fa0-57bb15025e92"
      },
      "source": [
        "\n",
        "from sklearn import svm\n",
        "clf = svm.SVC(C = 0.03,kernel = 'rbf',gamma = 0.15,random_state = 20)\n",
        "\n",
        "#70%\n",
        "clf.fit(x_train_new_0,train_labels)\n",
        "\n",
        "#validation\n",
        "y_pred=clf.predict(X_valid_0)\n",
        "svm_pca_cost_0 = calculate_cost(validation_labels,y_pred)\n",
        "print(svm_pca_cost_0)"
      ],
      "execution_count": 93,
      "outputs": [
        {
          "output_type": "stream",
          "name": "stdout",
          "text": [
            "Accuracy: 0.924868\n",
            "Precision: 0.165436\n",
            "Recall: 0.949153\n",
            "F1 score: 0.281761\n",
            "ROC AUC: 0.936819\n",
            "[[6917  565]\n",
            " [   6  112]]\n",
            "(8650, 565, 6, 91.01315789473684)\n"
          ]
        }
      ]
    },
    {
      "cell_type": "code",
      "metadata": {
        "id": "dMov9jhmPMbb",
        "colab": {
          "base_uri": "https://localhost:8080/"
        },
        "outputId": "2c9cf800-9bfa-4238-992b-e83b8717829a"
      },
      "source": [
        "#testing 70\n",
        "y_pred=clf.predict(x_test_0)\n",
        "svm_pca_cost_0 = calculate_cost(test_labels,y_pred)\n",
        "print(svm_pca_cost_0)"
      ],
      "execution_count": 94,
      "outputs": [
        {
          "output_type": "stream",
          "name": "stdout",
          "text": [
            "Accuracy: 0.926974\n",
            "Precision: 0.198540\n",
            "Recall: 0.957746\n",
            "F1 score: 0.328900\n",
            "ROC AUC: 0.942067\n",
            "[[6909  549]\n",
            " [   6  136]]\n",
            "(8490, 549, 6, 90.90789473684211)\n"
          ]
        }
      ]
    },
    {
      "cell_type": "code",
      "metadata": {
        "id": "4ySyW7OGPMbb",
        "colab": {
          "base_uri": "https://localhost:8080/"
        },
        "outputId": "bb55e6a9-35a9-4747-ee0e-b005c59c252c"
      },
      "source": [
        "## SVM \n",
        "from sklearn import svm\n",
        "clf = svm.SVC(C = 0.03,kernel = 'rbf',gamma = 0.15,random_state = 20)\n",
        "\n",
        "\n",
        "#75%\n",
        "clf.fit(x_train_new_1,train_labels)\n",
        "\n",
        "#validation\n",
        "y_pred=clf.predict(X_valid_1)\n",
        "svm_pca_cost_1 = calculate_cost(validation_labels,y_pred)\n",
        "print(svm_pca_cost_1)"
      ],
      "execution_count": 95,
      "outputs": [
        {
          "output_type": "stream",
          "name": "stdout",
          "text": [
            "Accuracy: 0.924079\n",
            "Precision: 0.163982\n",
            "Recall: 0.949153\n",
            "F1 score: 0.279650\n",
            "ROC AUC: 0.936418\n",
            "[[6911  571]\n",
            " [   6  112]]\n",
            "(8710, 571, 6, 90.93421052631578)\n"
          ]
        }
      ]
    },
    {
      "cell_type": "code",
      "metadata": {
        "id": "8i0LsR58PMbb",
        "colab": {
          "base_uri": "https://localhost:8080/"
        },
        "outputId": "f2793ce6-6541-4de8-c590-1c8762648ffb"
      },
      "source": [
        "#testing 75\n",
        "y_pred=clf.predict(x_test_1)\n",
        "svm_pca_cost_1 = calculate_cost(test_labels,y_pred)\n",
        "print(svm_pca_cost_1)"
      ],
      "execution_count": 96,
      "outputs": [
        {
          "output_type": "stream",
          "name": "stdout",
          "text": [
            "Accuracy: 0.926842\n",
            "Precision: 0.200000\n",
            "Recall: 0.971831\n",
            "F1 score: 0.331731\n",
            "ROC AUC: 0.948908\n",
            "[[6906  552]\n",
            " [   4  138]]\n",
            "(7520, 552, 4, 90.86842105263158)\n"
          ]
        }
      ]
    },
    {
      "cell_type": "code",
      "metadata": {
        "id": "mFFpumruPMbb",
        "colab": {
          "base_uri": "https://localhost:8080/"
        },
        "outputId": "e9da5104-3326-4a1e-fad3-78cfe031fa59"
      },
      "source": [
        "\n",
        "from sklearn import svm\n",
        "clf = svm.SVC(C = 0.03,kernel = 'rbf',gamma = 0.15,random_state = 20)\n",
        "\n",
        "#80%\n",
        "clf.fit(x_train_new_2,train_labels)\n",
        "\n",
        "#validation\n",
        "y_pred=clf.predict(X_valid_2)\n",
        "svm_pca_cost_2 = calculate_cost(validation_labels,y_pred)\n",
        "print(svm_pca_cost_2)"
      ],
      "execution_count": 97,
      "outputs": [
        {
          "output_type": "stream",
          "name": "stdout",
          "text": [
            "Accuracy: 0.928947\n",
            "Precision: 0.172360\n",
            "Recall: 0.940678\n",
            "F1 score: 0.291339\n",
            "ROC AUC: 0.934720\n",
            "[[6949  533]\n",
            " [   7  111]]\n",
            "(8830, 533, 7, 91.43421052631578)\n"
          ]
        }
      ]
    },
    {
      "cell_type": "code",
      "metadata": {
        "id": "Cdcf17QsPMbb",
        "colab": {
          "base_uri": "https://localhost:8080/"
        },
        "outputId": "41a3a212-3222-4f2b-ce27-60621763be41"
      },
      "source": [
        "#testing 80\n",
        "y_pred=clf.predict(x_test_2)\n",
        "svm_pca_cost_2 = calculate_cost(test_labels,y_pred)\n",
        "print(svm_pca_cost_2)"
      ],
      "execution_count": 98,
      "outputs": [
        {
          "output_type": "stream",
          "name": "stdout",
          "text": [
            "Accuracy: 0.933026\n",
            "Precision: 0.214619\n",
            "Recall: 0.971831\n",
            "F1 score: 0.351592\n",
            "ROC AUC: 0.952059\n",
            "[[6953  505]\n",
            " [   4  138]]\n",
            "(7050, 505, 4, 91.48684210526315)\n"
          ]
        }
      ]
    },
    {
      "cell_type": "code",
      "metadata": {
        "id": "zbmN9PKBPMbc"
      },
      "source": [
        "## SVM\n",
        "from sklearn import svm\n",
        "clf = svm.SVC(C = 0.03,kernel = 'rbf',gamma = 0.15,random_state = 20)\n",
        "\n",
        "\n",
        "#85%\n",
        "clf.fit(x_train_new_3,train_labels)\n",
        "\n",
        "#validation\n",
        "y_pred=clf.predict(X_valid_3)\n",
        "svm_pca_cost_3 = calculate_cost(validation_labels,y_pred)\n",
        "print(svm_pca_cost_3)"
      ],
      "execution_count": null,
      "outputs": []
    },
    {
      "cell_type": "code",
      "metadata": {
        "id": "tq0PLbxWPMbc"
      },
      "source": [
        "#testing 85\n",
        "y_pred=clf.predict(x_test_3)\n",
        "svm_pca_cost_3 = calculate_cost(test_labels,y_pred)\n",
        "print(svm_pca_cost_3)"
      ],
      "execution_count": null,
      "outputs": []
    },
    {
      "cell_type": "code",
      "metadata": {
        "id": "EVSiqAerPMbc"
      },
      "source": [
        "## SVM \n",
        "from sklearn import svm\n",
        "clf = svm.SVC(C = 0.03,kernel = 'rbf',gamma = 0.15,random_state = 20)\n",
        "\n",
        "\n",
        "#Train the model using the training sets y_pred=clf.predict(X_test)\n",
        "#90%\n",
        "clf.fit(x_train_new_4,train_labels)\n",
        "\n",
        "#validation\n",
        "y_pred=clf.predict(X_valid_4)\n",
        "svm_pca_cost_4 = calculate_cost(validation_labels,y_pred)\n",
        "print(svm_pca_cost_4)\n"
      ],
      "execution_count": null,
      "outputs": []
    },
    {
      "cell_type": "code",
      "metadata": {
        "id": "xyxQRkzHPMbc"
      },
      "source": [
        "#testing 90\n",
        "y_pred=clf.predict(x_test_4)\n",
        "svm_pca_cost_4 = calculate_cost(test_labels,y_pred)\n",
        "print(svm_pca_cost_4)"
      ],
      "execution_count": null,
      "outputs": []
    },
    {
      "cell_type": "markdown",
      "metadata": {
        "id": "CKBeqs1YjfDg"
      },
      "source": [
        "ROC1"
      ]
    },
    {
      "cell_type": "code",
      "metadata": {
        "id": "VD59pyTVjRX-"
      },
      "source": [
        "lr_fpr_pca_svm, lr_tpr_pca_svm, _ = roc_curve(test_labels,y_pred)\n"
      ],
      "execution_count": null,
      "outputs": []
    },
    {
      "cell_type": "markdown",
      "metadata": {
        "id": "jNvmAD0bB636"
      },
      "source": [
        "**1. Training with Chi square**"
      ]
    },
    {
      "cell_type": "markdown",
      "metadata": {
        "id": "2UD6kvLbNCgq"
      },
      "source": [
        "## RF + Chi"
      ]
    },
    {
      "cell_type": "code",
      "metadata": {
        "id": "ri84lJi6NOFB"
      },
      "source": [
        "#Create a Gaussian Classifier\n",
        "clf = RandomForestClassifier(n_estimators=100 )\n",
        "\n",
        "clf.fit(best_train_features,train_labels)\n",
        "\n",
        "#validation\n",
        "y_pred=clf.predict(best_validation_features)\n",
        "rf_chi_cost = calculate_cost(validation_labels,y_pred)\n",
        "print(rf_chi_cost)"
      ],
      "execution_count": null,
      "outputs": []
    },
    {
      "cell_type": "code",
      "metadata": {
        "id": "QozNSHFR7ByP"
      },
      "source": [
        "#testing \n",
        "y_pred=clf.predict(best_test_features)\n",
        "rf_chi_cost = calculate_cost(test_labels,y_pred)\n",
        "print(rf_chi_cost)"
      ],
      "execution_count": null,
      "outputs": []
    },
    {
      "cell_type": "markdown",
      "metadata": {
        "id": "mEMdL4CrNKV2"
      },
      "source": [
        "## GB + Chi"
      ]
    },
    {
      "cell_type": "code",
      "metadata": {
        "id": "_oxwlXzZNOtL"
      },
      "source": [
        "\n",
        "clf = GradientBoostingClassifier(n_estimators=100, learning_rate=1.0,\\\n",
        "                                 max_depth=1, random_state=0)\n",
        "\n",
        "\n",
        "#Train the model using the training sets y_pred=clf.predict(X_test)\n",
        "#80%\n",
        "clf.fit(best_train_features,train_labels)\n",
        "\n",
        "#validation\n",
        "y_pred=clf.predict(best_validation_features)\n",
        "gb_chi_cost = calculate_cost(validation_labels,y_pred)\n",
        "print(gb_chi_cost)"
      ],
      "execution_count": null,
      "outputs": []
    },
    {
      "cell_type": "code",
      "metadata": {
        "id": "4gAhWOpn_jSM"
      },
      "source": [
        "#testing \n",
        "y_pred=clf.predict(best_test_features)\n",
        "gb_chi_cost = calculate_cost(test_labels,y_pred)\n",
        "print(gb_chi_cost)"
      ],
      "execution_count": null,
      "outputs": []
    },
    {
      "cell_type": "markdown",
      "metadata": {
        "id": "oHzLS489j3Xa"
      },
      "source": [
        "ROC GB"
      ]
    },
    {
      "cell_type": "code",
      "metadata": {
        "id": "Zb9Zt2smj2xg"
      },
      "source": [
        "lr_fpr_chi_gb, lr_tpr_chi_gb, _ = roc_curve(test_labels,y_pred)"
      ],
      "execution_count": null,
      "outputs": []
    },
    {
      "cell_type": "markdown",
      "metadata": {
        "id": "UapgldYzNPYB"
      },
      "source": [
        "## XGBoost + Chi"
      ]
    },
    {
      "cell_type": "code",
      "metadata": {
        "id": "xwGb2vDdNUCQ"
      },
      "source": [
        "# fit model no training data\n",
        "clf = XGBClassifier(base_score=0.5, booster='gbtree', colsample_bylevel=1,\n",
        "              colsample_bynode=1, colsample_bytree=0.3, gamma=0.4,\n",
        "              learning_rate=0.15, max_delta_step=0, max_depth=15,\n",
        "              min_child_weight=1, missing=None, n_estimators=100, n_jobs=1,\n",
        "              nthread=None, objective='binary:logistic', random_state=42,\n",
        "              reg_alpha=0, reg_lambda=1, scale_pos_weight=1, seed=None,\n",
        "              silent=None, subsample=1, verbosity=1)\n",
        "\n",
        "#Train the model using the training sets y_pred=clf.predict(X_test)\n",
        "#80%\n",
        "clf.fit(best_train_features,train_labels)\n",
        "\n",
        "#validation\n",
        "y_pred_chi_xgboost_valid=clf.predict(best_validation_features)\n",
        "xgb_chi_cost = calculate_cost(validation_labels,y_pred_chi_xgboost_valid)\n",
        "print(xgb_chi_cost)"
      ],
      "execution_count": null,
      "outputs": []
    },
    {
      "cell_type": "code",
      "metadata": {
        "id": "8zW5NJA-CCP5"
      },
      "source": [
        "#testing \n",
        "y_pred_chi_xgboost_test=clf.predict(best_test_features)\n",
        "xgb_chi_cost = calculate_cost(test_labels,y_pred_chi_xgboost_test)\n",
        "print(xgb_chi_cost)"
      ],
      "execution_count": null,
      "outputs": []
    },
    {
      "cell_type": "markdown",
      "metadata": {
        "id": "AjLlDunPM91T"
      },
      "source": [
        "## SVM + Chi"
      ]
    },
    {
      "cell_type": "code",
      "metadata": {
        "id": "cwsUiAD8B5xL"
      },
      "source": [
        "## SVM + CHi square\n",
        "from sklearn import svm\n",
        "svmclf = svm.SVC(C = 0.03,kernel = 'rbf',gamma = 0.15,random_state = 20)\n",
        "svmclf.fit(best_train_features,train_labels)\n",
        "y_pred_chi_valid = svmclf.predict(best_validation_features)\n",
        "\n"
      ],
      "execution_count": null,
      "outputs": []
    },
    {
      "cell_type": "code",
      "metadata": {
        "id": "IMZ_sh7pBWym"
      },
      "source": [
        "svm_chi_cost = calculate_cost(validation_labels,y_pred_chi_valid)\n",
        "print('SVM + Select K=40 Best:', svm_chi_cost)"
      ],
      "execution_count": null,
      "outputs": []
    },
    {
      "cell_type": "code",
      "metadata": {
        "id": "YV4ahKf9A15s"
      },
      "source": [
        "#testing \n",
        "y_pred_chi_test=clf.predict(best_test_features)\n",
        "svm_chi_cost = calculate_cost(test_labels,y_pred_chi_test)\n",
        "print(svm_chi_cost)"
      ],
      "execution_count": null,
      "outputs": []
    },
    {
      "cell_type": "code",
      "metadata": {
        "id": "U1C5y4sdfWSn"
      },
      "source": [
        "# accuracy: (tp + tn) / (p + n)\n",
        "accuracy_svm_chi = accuracy_score(test_labels,y_pred_chi_test)\n",
        "print('Accuracy: %f' % accuracy)\n",
        "# precision tp / (tp + fp)\n",
        "precision_svm_chi = precision_score(test_labels,y_pred_chi_test)\n",
        "print('Precision: %f' % precision)\n",
        "# recall: tp / (tp + fn)\n",
        "recall_svm_chi = recall_score(test_labels,y_pred_chi_test)\n",
        "print('Recall: %f' % recall)\n",
        "# f1: 2 tp / (2 tp + fp + fn)\n",
        "f1 = f1_score(test_labels,y_pred_chi_test)\n",
        "print('F1 score: %f' % f1)\n",
        "\n",
        "\n",
        "# ROC AUC\n",
        "auc_svm_chi = roc_auc_score(test_labels,y_pred_chi_test)\n",
        "print('ROC AUC: %f' % auc)\n",
        "# confusion matrix\n",
        "matrix_svm_chi = confusion_matrix(test_labels,y_pred_chi_test)\n",
        "print(matrix)"
      ],
      "execution_count": null,
      "outputs": []
    },
    {
      "cell_type": "markdown",
      "metadata": {
        "id": "7ALWJym3jI54"
      },
      "source": [
        "ROC"
      ]
    },
    {
      "cell_type": "code",
      "metadata": {
        "id": "yYT4oQBEfwxQ"
      },
      "source": [
        "lr_fpr_chi_svm, lr_tpr_chi_svm, _ = roc_curve(test_labels,y_pred_chi_test)"
      ],
      "execution_count": null,
      "outputs": []
    },
    {
      "cell_type": "markdown",
      "metadata": {
        "id": "3wQFPZLtM5vk"
      },
      "source": [
        "### NN + Chi "
      ]
    },
    {
      "cell_type": "code",
      "metadata": {
        "id": "yOZZ2vBxDHHx"
      },
      "source": [
        "### Neural netowrk with chi square\n",
        "import tensorflow as tf \n",
        "from tensorflow import keras \n",
        "from sklearn.model_selection import train_test_split\n",
        "from sklearn.neural_network import MLPClassifier\n",
        "\n",
        "clf = MLPClassifier(activation='relu', solver='adam', alpha=1e-5,hidden_layer_sizes=(10,), random_state=1,max_iter=1500)\n",
        "clf.fit(best_train_features,train_labels)\n",
        "y_pred_chi_nn = clf.predict(best_validation_features)\n",
        "\n",
        "perceptron_cost = calculate_cost(validation_labels,y_pred_chi_nn)\n",
        "print('multilayer perceptron', perceptron_cost)\n"
      ],
      "execution_count": null,
      "outputs": []
    },
    {
      "cell_type": "code",
      "metadata": {
        "id": "i4oyb9OMimdo"
      },
      "source": [
        "y_pred_chi_nn=clf.predict(best_test_features)\n",
        "nn_chi_cost = calculate_cost(test_labels,y_pred_chi_nn)\n",
        "print(nn_chi_cost)"
      ],
      "execution_count": null,
      "outputs": []
    },
    {
      "cell_type": "code",
      "metadata": {
        "id": "pvY5t-c8hc9R"
      },
      "source": [
        "nn_chi_cost = calculate_cost(test_labels,y_pred_chi_nn)\n",
        "print(nn_chi_cost)"
      ],
      "execution_count": null,
      "outputs": []
    },
    {
      "cell_type": "markdown",
      "metadata": {
        "id": "uxAPuzFEuwPa"
      },
      "source": [
        "CHI ROC NN"
      ]
    },
    {
      "cell_type": "code",
      "metadata": {
        "id": "ou7S-Wt-uzHA"
      },
      "source": [
        "lr_fpr_chi_nn, lr_tpr_chi_nn, _ = roc_curve(test_labels,y_pred_chi_test)"
      ],
      "execution_count": null,
      "outputs": []
    },
    {
      "cell_type": "markdown",
      "metadata": {
        "id": "wefXV79Ek9tJ"
      },
      "source": [
        "validation"
      ]
    },
    {
      "cell_type": "code",
      "metadata": {
        "id": "eDe6qm4qlvHP"
      },
      "source": [
        "c = 0\n",
        "for i in validation_labels:\n",
        "  if i == 1:\n",
        "    c+=1\n",
        "\n",
        "print('validation failures count is', c)\n",
        "print('validation failures cost is', c*500,'$')"
      ],
      "execution_count": null,
      "outputs": []
    },
    {
      "cell_type": "markdown",
      "metadata": {
        "id": "00cOXVEdm1FN"
      },
      "source": [
        "Test"
      ]
    },
    {
      "cell_type": "code",
      "metadata": {
        "id": "9nExxz6hmhQ9"
      },
      "source": [
        "c = 0\n",
        "for i in test_labels:\n",
        "  if i == 1:\n",
        "    c+=1\n",
        "\n",
        "print('test failures count is', c)\n",
        "print('tets failures cost is', c*500,'$')"
      ],
      "execution_count": null,
      "outputs": []
    },
    {
      "cell_type": "code",
      "metadata": {
        "id": "L1eDQWoUbsZG"
      },
      "source": [
        "# accuracy: (tp + tn) / (p + n)\n",
        "accuracy = accuracy_score(test_labels, y_pred_chi_nn)\n",
        "print('Accuracy: %f' % accuracy)\n",
        "# precision tp / (tp + fp)\n",
        "precision = precision_score(test_labels, y_pred_chi_nn)\n",
        "print('Precision: %f' % precision)\n",
        "# recall: tp / (tp + fn)\n",
        "recall = recall_score(test_labels, y_pred_chi_nn)\n",
        "print('Recall: %f' % recall)\n",
        "# f1: 2 tp / (2 tp + fp + fn)\n",
        "f1 = f1_score(test_labels, y_pred_chi_nn)\n",
        "print('F1 score: %f' % f1)\n",
        "\n",
        "\n",
        "# ROC AUC\n",
        "auc = roc_auc_score(test_labels, y_pred_chi_nn)\n",
        "print('ROC AUC: %f' % auc)\n",
        "# confusion matrix\n",
        "matrix = confusion_matrix(test_labels, y_pred_chi_nn)\n",
        "print(matrix)"
      ],
      "execution_count": null,
      "outputs": []
    },
    {
      "cell_type": "code",
      "metadata": {
        "id": "ejooqiUvdEuo"
      },
      "source": [
        "\n",
        "# generate a no skill prediction (majority class)\n",
        "ns_probs = [0 for _ in range(len(test_labels))]\n",
        "\n",
        "ns_fpr, ns_tpr, _ = roc_curve(test_labels, ns_probs)\n",
        "lr_fpr, lr_tpr, _ = roc_curve(test_labels, y_pred_chi_nn)\n"
      ],
      "execution_count": null,
      "outputs": []
    },
    {
      "cell_type": "code",
      "metadata": {
        "id": "ZRHuzqqtmPiA"
      },
      "source": [
        "lr_tpr_pca_svm"
      ],
      "execution_count": null,
      "outputs": []
    },
    {
      "cell_type": "code",
      "metadata": {
        "id": "ZFn0XbHEeYWj"
      },
      "source": [
        "\n",
        "# plot the roc curve for the model\n",
        "pyplot.plot(ns_fpr, ns_tpr, linestyle='--', label='Majority Prediction')\n",
        "pyplot.plot(lr_fpr, lr_tpr, marker='.', label='NN+PCA90',  color='r')\n",
        "pyplot.plot(lr_fpr_chi_svm, lr_tpr_chi_svm, marker='.', label='SVM+Chi',  color='g')\n",
        "pyplot.plot(lr_fpr_pca_nn, lr_tpr_pca_nn, marker='.', label='NN+PCA',  color='b')\n",
        "pyplot.plot(lr_fpr_pca_svm, lr_tpr_pca_svm, marker='.', label='SVM+PCA',  color='k')\n",
        "pyplot.plot(lr_fpr_chi_gb, lr_tpr_chi_gb, marker='.', label='GB+Chi',  color='m')\n",
        "\n",
        "# axis labels\n",
        "pyplot.xlabel('False Positive Rate')\n",
        "pyplot.ylabel('True Positive Rate')\n",
        "# show the legend\n",
        "pyplot.legend()\n",
        "# show the plot\n",
        "pyplot.show()"
      ],
      "execution_count": null,
      "outputs": []
    },
    {
      "cell_type": "code",
      "metadata": {
        "id": "RuhOxhuTedQa"
      },
      "source": [
        ""
      ],
      "execution_count": null,
      "outputs": []
    }
  ]
}